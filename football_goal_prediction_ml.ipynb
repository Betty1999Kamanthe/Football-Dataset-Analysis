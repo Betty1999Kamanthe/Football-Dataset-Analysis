{
 "cells": [
  {
   "cell_type": "markdown",
   "metadata": {},
   "source": [
    "# Football Events and Game Information"
   ]
  },
  {
   "cell_type": "markdown",
   "metadata": {},
   "source": [
    "# Question to answer\n",
    "What is the value of a shot? Or what is the probability of a shot being a goal given its location, shooter, league, assist method, gamestate, number of players on the pitch, time - known as expected goals (xG) models [Binary classification, Sara ]\n"
   ]
  },
  {
   "cell_type": "markdown",
   "metadata": {},
   "source": [
    "imports and initialization"
   ]
  },
  {
   "cell_type": "code",
   "execution_count": 1,
   "metadata": {},
   "outputs": [],
   "source": [
    "import zipfile\n",
    "%matplotlib inline \n",
    "import numpy as np \n",
    "import scipy as sp \n",
    "import matplotlib as mpl\n",
    "import matplotlib.cm as cm \n",
    "import matplotlib.pyplot as plt\n",
    "import pandas as pd \n",
    "pd.set_option('display.width', 500)\n",
    "pd.set_option('display.max_columns', 100)\n",
    "pd.set_option('display.notebook_repr_html', True)\n",
    "import seaborn as sns\n",
    "sns.set(style=\"whitegrid\")\n",
    "import warnings\n",
    "warnings.filterwarnings('ignore')"
   ]
  },
  {
   "cell_type": "code",
   "execution_count": 2,
   "metadata": {},
   "outputs": [],
   "source": [
    "plt.style.use(['dark_background', 'bmh'])\n",
    "plt.rc('axes', facecolor='k')\n",
    "plt.rc('figure', facecolor='k')\n",
    "plt.rc('figure', figsize=(5,5))"
   ]
  },
  {
   "cell_type": "markdown",
   "metadata": {},
   "source": [
    "# Reading the Data"
   ]
  },
  {
   "cell_type": "code",
   "execution_count": 3,
   "metadata": {},
   "outputs": [],
   "source": [
    "def read_merge():\n",
    "    df_events = pd.read_csv(\"../events.csv\")\n",
    "    df_game_info = pd.read_csv(\"../ginf.csv\")\n",
    "    \n",
    "    # manually convert the dictionary.txt to python dicts\n",
    "    event_types = {1:'Attempt', 2:'Corner', 3:'Foul', 4:'Yellow card', 5:'Second yellow card', 6:'Red card', 7:'Substitution', 8:'Free kick won', 9:'Offside', 10:'Hand ball', 11:'Penalty conceded'}\n",
    "    event_types2 = {12:'Key Pass', 13:'Failed through ball', 14:'Sending off', 15:'Own goal'}\n",
    "    sides = {1:'Home', 2:'Away'}\n",
    "    shot_places = {1:'Bit too high', 2:'Blocked', 3:'Bottom left corner', 4:'Bottom right corner', 5:'Centre of the goal', 6:'High and wide', 7:'Hits the bar', 8:'Misses to the left', 9:'Misses to the right', 10:'Too high', 11:'Top centre of the goal', 12:'Top left corner', 13:'Top right corner'}\n",
    "    shot_outcomes = {1:'On target', 2:'Off target', 3:'Blocked', 4:'Hit the bar'}\n",
    "    locations = {1:'Attacking half', 2:'Defensive half', 3:'Centre of the box', 4:'Left wing', 5:'Right wing', 6:'Difficult angle and long range', 7:'Difficult angle on the left', 8:'Difficult angle on the right', 9:'Left side of the box', 10:'Left side of the six yard box', 11:'Right side of the box', 12:'Right side of the six yard box', 13:'Very close range', 14:'Penalty spot', 15:'Outside the box', 16:'Long range', 17:'More than 35 yards', 18:'More than 40 yards', 19:'Not recorded'}\n",
    "    bodyparts = {1:'right foot', 2:'left foot', 3:'head'}\n",
    "    assist_methods = {0:np.nan, 1:'Pass', 2:'Cross', 3:'Headed pass', 4:'Through ball'}\n",
    "    situations = {1:'Open play', 2:'Set piece', 3:'Corner', 4:'Free kick'}\n",
    "    \n",
    "    # Mapping the dicts into the events dataframe\n",
    "    df_events['event_type'] =   df_events['event_type'].map(event_types)\n",
    "    df_events['event_type2'] =  df_events['event_type2'].map(event_types2)\n",
    "    df_events['side'] =         df_events['side'].map(sides)\n",
    "    df_events['shot_place'] =   df_events['shot_place'].map(shot_places)\n",
    "    df_events['shot_outcome']=  df_events['shot_outcome'].map(shot_outcomes)\n",
    "    df_events['location'] =     df_events['location'].map(locations)\n",
    "    df_events['bodypart'] =     df_events['bodypart'].map(bodyparts)\n",
    "    df_events['assist_method']= df_events['assist_method'].map(assist_methods)\n",
    "    df_events['situation'] =    df_events['situation'].map(situations)\n",
    "\n",
    "    ## Naming the leagues with their popular names, which will make thinks much clear for us\n",
    "    leagues = {'E0': 'Premier League', 'SP1': 'La Liga',\n",
    "              'I1': 'Serie A', 'F1': 'League One', 'D1': 'Bundesliga'}\n",
    "\n",
    "    ## Map them to events\n",
    "    df_game_info.league = df_game_info.league.map(leagues)\n",
    "\n",
    "    # Merge into one table (merge other dataset to have country, league, date and season)\n",
    "    df_events = df_events.merge(df_game_info ,how = 'left')\n",
    "    \n",
    "    return df_events"
   ]
  },
  {
   "cell_type": "code",
   "execution_count": 4,
   "metadata": {},
   "outputs": [],
   "source": [
    "def fill_unk(df):\n",
    "    '''\n",
    "    Fill the following categorical features in df with 'UNK':\n",
    "    shot_place, player, shot_outcome, bodypart, location and assist_method\n",
    "    '''\n",
    "    # Fill the required features with new class 'unknown'\n",
    "    df.shot_place.fillna('UNK'   ,inplace = True)\n",
    "    df.player.fillna('UNK'       ,inplace = True)\n",
    "    df.shot_outcome.fillna('UNK' ,inplace = True)\n",
    "    df.bodypart.fillna('UNK'     ,inplace = True)\n",
    "    df.location.fillna('UNK'     ,inplace = True)\n",
    "    df.assist_method.fillna('UNK',inplace = True)\n",
    "    df.situation.fillna('UNK'    ,inplace = True)\n",
    "    df.location.replace('Not recorded', 'UNK', inplace= True)"
   ]
  },
  {
   "cell_type": "code",
   "execution_count": 5,
   "metadata": {},
   "outputs": [],
   "source": [
    "def fix_dtypes(df, cats):\n",
    "    '''\n",
    "    fixes the category datatypes for cats features\n",
    "    '''\n",
    "    # Notice that a lot of the floats and ints are in fact categoricals\n",
    "    # We can fix this with Pandas' astype function\n",
    "    d = dict.fromkeys(cats,'category')\n",
    "    df = df.astype(d)\n",
    "    df['is_goal'] = df['is_goal'].astype('bool') # this is a bool\n",
    "    df['fast_break'] = df['fast_break'].astype('bool')\n",
    "    \n",
    "    df.odd_a = df.odd_a.astype('float16')\n",
    "    df.odd_d = df.odd_d.astype('float16')\n",
    "    df.odd_h = df.odd_h.astype('float16')\n",
    "    df.odd_over  = df.odd_over.astype('float16')\n",
    "    df.odd_under = df.odd_under.astype('float16')               \n",
    "    df.odd_bts   = df.odd_bts.astype('float16')\n",
    "    df.odd_bts_n = df.odd_bts_n.astype('float16')\n",
    "\n",
    "    df.ftag = df.ftag.astype('int8')\n",
    "    df.fthg = df.fthg.astype('int8')\n",
    "    df.time = df.time.astype('int8')\n",
    "    \n",
    "    df.season =     df.season.astype('category')\n",
    "    df.league =     df.league.astype('category')\n",
    "    df.country =    df.country.astype('category')\n",
    "    df.date = pd.to_datetime(df.date)\n",
    "    return df"
   ]
  },
  {
   "cell_type": "code",
   "execution_count": 6,
   "metadata": {},
   "outputs": [],
   "source": [
    "def missing_values_table(df):\n",
    "    '''\n",
    "    Function to calculate missing values by column# Funct \n",
    "    '''\n",
    "    # Total missing values\n",
    "    mis_val = df.isnull().sum()\n",
    "\n",
    "    # Percentage of missing values\n",
    "    mis_val_percent = 100 * df.isnull().sum() / len(df)\n",
    "\n",
    "    # Make a table with the results\n",
    "    mis_val_table = pd.concat([mis_val, mis_val_percent], axis=1)\n",
    "\n",
    "    # Rename the columns\n",
    "    mis_val_table_ren_columns = mis_val_table.rename(\n",
    "    columns = {0 : 'Missing Values', 1 : '% of Total Values'})\n",
    "\n",
    "    # Sort the table by percentage of missing descending\n",
    "    mis_val_table_ren_columns = mis_val_table_ren_columns[\n",
    "        mis_val_table_ren_columns.iloc[:,1] != 0].sort_values(\n",
    "    '% of Total Values', ascending=False).round(1)\n",
    "\n",
    "    # Print some summary information\n",
    "    print (\"Your selected dataframe has \" + str(df.shape[1]) + \" columns.\\n\"      \n",
    "        \"There are \" + str(mis_val_table_ren_columns.shape[0]) +\n",
    "          \" columns that have missing values.\")\n",
    "\n",
    "    # Return the dataframe with missing information\n",
    "    return mis_val_table_ren_columns"
   ]
  },
  {
   "cell_type": "code",
   "execution_count": 7,
   "metadata": {},
   "outputs": [],
   "source": [
    "def select_feats(df, feat_cols):\n",
    "    '''\n",
    "    Manually choose features (feat_cols) from a dataframe (df)\n",
    "    '''\n",
    "    return df[feat_cols]"
   ]
  },
  {
   "cell_type": "markdown",
   "metadata": {},
   "source": [
    "# Cleaning Data"
   ]
  },
  {
   "cell_type": "markdown",
   "metadata": {},
   "source": [
    "## Handling Missing Values: Fill categorical features with 'UNK'"
   ]
  },
  {
   "cell_type": "markdown",
   "metadata": {},
   "source": [
    "By substituting any null value with a new class 'UNK' in the categorical columns."
   ]
  },
  {
   "cell_type": "code",
   "execution_count": 38,
   "metadata": {},
   "outputs": [],
   "source": [
    "# Read the data sets and merge them\n",
    "df = read_merge()"
   ]
  },
  {
   "cell_type": "code",
   "execution_count": 42,
   "metadata": {},
   "outputs": [
    {
     "data": {
      "text/plain": [
       "1453"
      ]
     },
     "execution_count": 42,
     "metadata": {},
     "output_type": "execute_result"
    }
   ],
   "source": [
    "df[df.location == 'Not recorded'].location.count()"
   ]
  },
  {
   "cell_type": "code",
   "execution_count": null,
   "metadata": {},
   "outputs": [],
   "source": [
    "df"
   ]
  },
  {
   "cell_type": "code",
   "execution_count": 9,
   "metadata": {},
   "outputs": [
    {
     "data": {
      "text/plain": [
       "id_odsp           object\n",
       "id_event          object\n",
       "sort_order         int64\n",
       "time               int64\n",
       "text              object\n",
       "event_type        object\n",
       "event_type2       object\n",
       "side              object\n",
       "event_team        object\n",
       "opponent          object\n",
       "player            object\n",
       "player2           object\n",
       "player_in         object\n",
       "player_out        object\n",
       "shot_place        object\n",
       "shot_outcome      object\n",
       "is_goal            int64\n",
       "location          object\n",
       "bodypart          object\n",
       "assist_method     object\n",
       "situation         object\n",
       "fast_break         int64\n",
       "link_odsp         object\n",
       "adv_stats           bool\n",
       "date              object\n",
       "league            object\n",
       "season             int64\n",
       "country           object\n",
       "ht                object\n",
       "at                object\n",
       "fthg               int64\n",
       "ftag               int64\n",
       "odd_h            float64\n",
       "odd_d            float64\n",
       "odd_a            float64\n",
       "odd_over         float64\n",
       "odd_under        float64\n",
       "odd_bts          float64\n",
       "odd_bts_n        float64\n",
       "dtype: object"
      ]
     },
     "execution_count": 9,
     "metadata": {},
     "output_type": "execute_result"
    }
   ],
   "source": [
    "df.dtypes"
   ]
  },
  {
   "cell_type": "code",
   "execution_count": 10,
   "metadata": {},
   "outputs": [
    {
     "name": "stdout",
     "output_type": "stream",
     "text": [
      "Your selected dataframe has 39 columns.\n",
      "There are 15 columns that have missing values.\n"
     ]
    },
    {
     "data": {
      "text/html": [
       "<div>\n",
       "<style scoped>\n",
       "    .dataframe tbody tr th:only-of-type {\n",
       "        vertical-align: middle;\n",
       "    }\n",
       "\n",
       "    .dataframe tbody tr th {\n",
       "        vertical-align: top;\n",
       "    }\n",
       "\n",
       "    .dataframe thead th {\n",
       "        text-align: right;\n",
       "    }\n",
       "</style>\n",
       "<table border=\"1\" class=\"dataframe\">\n",
       "  <thead>\n",
       "    <tr style=\"text-align: right;\">\n",
       "      <th></th>\n",
       "      <th>Missing Values</th>\n",
       "      <th>% of Total Values</th>\n",
       "    </tr>\n",
       "  </thead>\n",
       "  <tbody>\n",
       "    <tr>\n",
       "      <th>player_in</th>\n",
       "      <td>889294</td>\n",
       "      <td>94.5</td>\n",
       "    </tr>\n",
       "    <tr>\n",
       "      <th>player_out</th>\n",
       "      <td>889271</td>\n",
       "      <td>94.5</td>\n",
       "    </tr>\n",
       "    <tr>\n",
       "      <th>odd_over</th>\n",
       "      <td>842329</td>\n",
       "      <td>89.5</td>\n",
       "    </tr>\n",
       "    <tr>\n",
       "      <th>odd_under</th>\n",
       "      <td>842329</td>\n",
       "      <td>89.5</td>\n",
       "    </tr>\n",
       "    <tr>\n",
       "      <th>odd_bts</th>\n",
       "      <td>842329</td>\n",
       "      <td>89.5</td>\n",
       "    </tr>\n",
       "    <tr>\n",
       "      <th>odd_bts_n</th>\n",
       "      <td>842329</td>\n",
       "      <td>89.5</td>\n",
       "    </tr>\n",
       "    <tr>\n",
       "      <th>assist_method</th>\n",
       "      <td>773104</td>\n",
       "      <td>82.2</td>\n",
       "    </tr>\n",
       "    <tr>\n",
       "      <th>event_type2</th>\n",
       "      <td>726716</td>\n",
       "      <td>77.2</td>\n",
       "    </tr>\n",
       "    <tr>\n",
       "      <th>shot_place</th>\n",
       "      <td>713550</td>\n",
       "      <td>75.8</td>\n",
       "    </tr>\n",
       "    <tr>\n",
       "      <th>shot_outcome</th>\n",
       "      <td>712511</td>\n",
       "      <td>75.7</td>\n",
       "    </tr>\n",
       "    <tr>\n",
       "      <th>situation</th>\n",
       "      <td>711872</td>\n",
       "      <td>75.6</td>\n",
       "    </tr>\n",
       "    <tr>\n",
       "      <th>bodypart</th>\n",
       "      <td>711824</td>\n",
       "      <td>75.6</td>\n",
       "    </tr>\n",
       "    <tr>\n",
       "      <th>player2</th>\n",
       "      <td>649699</td>\n",
       "      <td>69.0</td>\n",
       "    </tr>\n",
       "    <tr>\n",
       "      <th>location</th>\n",
       "      <td>473942</td>\n",
       "      <td>50.4</td>\n",
       "    </tr>\n",
       "    <tr>\n",
       "      <th>player</th>\n",
       "      <td>61000</td>\n",
       "      <td>6.5</td>\n",
       "    </tr>\n",
       "  </tbody>\n",
       "</table>\n",
       "</div>"
      ],
      "text/plain": [
       "               Missing Values  % of Total Values\n",
       "player_in              889294               94.5\n",
       "player_out             889271               94.5\n",
       "odd_over               842329               89.5\n",
       "odd_under              842329               89.5\n",
       "odd_bts                842329               89.5\n",
       "odd_bts_n              842329               89.5\n",
       "assist_method          773104               82.2\n",
       "event_type2            726716               77.2\n",
       "shot_place             713550               75.8\n",
       "shot_outcome           712511               75.7\n",
       "situation              711872               75.6\n",
       "bodypart               711824               75.6\n",
       "player2                649699               69.0\n",
       "location               473942               50.4\n",
       "player                  61000                6.5"
      ]
     },
     "execution_count": 10,
     "metadata": {},
     "output_type": "execute_result"
    }
   ],
   "source": [
    "# check the missing values in each feature\n",
    "missing_values_table(df)"
   ]
  },
  {
   "cell_type": "markdown",
   "metadata": {},
   "source": [
    "**We have large proportion of missing data values in important features as following**: <br>\n",
    "`1` 82.2% missing in assist_method. <br>\n",
    "`2` 75.8% missing in shot_place.  <br>\n",
    "`3` 75.7% missing in shot_outcome. <br>\n",
    "`4` 75.6% missing in situation. <br>\n",
    "`5` 75.6% missing in bodypart. <br>\n",
    "`6` 50.4% missing in location. <br>"
   ]
  },
  {
   "cell_type": "code",
   "execution_count": 172,
   "metadata": {},
   "outputs": [],
   "source": [
    "df = read_merge()\n",
    "\n",
    "# Fill the null values with a new category 'UNK' for 'Unknown'\n",
    "fill_unk(df)\n",
    "\n",
    "# Fix the datatypes of some categorical columns\n",
    "categoricals = ['id_odsp', 'event_type', 'event_team', 'opponent', 'shot_place', 'shot_outcome', 'location', 'bodypart', 'assist_method', 'situation', 'side', 'player']\n",
    "df = fix_dtypes(df, categoricals)"
   ]
  },
  {
   "cell_type": "code",
   "execution_count": 173,
   "metadata": {},
   "outputs": [
    {
     "name": "stdout",
     "output_type": "stream",
     "text": [
      "Your selected dataframe has 39 columns.\n",
      "There are 8 columns that have missing values.\n"
     ]
    },
    {
     "data": {
      "text/html": [
       "<div>\n",
       "<style scoped>\n",
       "    .dataframe tbody tr th:only-of-type {\n",
       "        vertical-align: middle;\n",
       "    }\n",
       "\n",
       "    .dataframe tbody tr th {\n",
       "        vertical-align: top;\n",
       "    }\n",
       "\n",
       "    .dataframe thead th {\n",
       "        text-align: right;\n",
       "    }\n",
       "</style>\n",
       "<table border=\"1\" class=\"dataframe\">\n",
       "  <thead>\n",
       "    <tr style=\"text-align: right;\">\n",
       "      <th></th>\n",
       "      <th>Missing Values</th>\n",
       "      <th>% of Total Values</th>\n",
       "    </tr>\n",
       "  </thead>\n",
       "  <tbody>\n",
       "    <tr>\n",
       "      <th>player_in</th>\n",
       "      <td>889294</td>\n",
       "      <td>94.5</td>\n",
       "    </tr>\n",
       "    <tr>\n",
       "      <th>player_out</th>\n",
       "      <td>889271</td>\n",
       "      <td>94.5</td>\n",
       "    </tr>\n",
       "    <tr>\n",
       "      <th>odd_over</th>\n",
       "      <td>842329</td>\n",
       "      <td>89.5</td>\n",
       "    </tr>\n",
       "    <tr>\n",
       "      <th>odd_under</th>\n",
       "      <td>842329</td>\n",
       "      <td>89.5</td>\n",
       "    </tr>\n",
       "    <tr>\n",
       "      <th>odd_bts</th>\n",
       "      <td>842329</td>\n",
       "      <td>89.5</td>\n",
       "    </tr>\n",
       "    <tr>\n",
       "      <th>odd_bts_n</th>\n",
       "      <td>842329</td>\n",
       "      <td>89.5</td>\n",
       "    </tr>\n",
       "    <tr>\n",
       "      <th>event_type2</th>\n",
       "      <td>726716</td>\n",
       "      <td>77.2</td>\n",
       "    </tr>\n",
       "    <tr>\n",
       "      <th>player2</th>\n",
       "      <td>649699</td>\n",
       "      <td>69.0</td>\n",
       "    </tr>\n",
       "  </tbody>\n",
       "</table>\n",
       "</div>"
      ],
      "text/plain": [
       "             Missing Values  % of Total Values\n",
       "player_in            889294               94.5\n",
       "player_out           889271               94.5\n",
       "odd_over             842329               89.5\n",
       "odd_under            842329               89.5\n",
       "odd_bts              842329               89.5\n",
       "odd_bts_n            842329               89.5\n",
       "event_type2          726716               77.2\n",
       "player2              649699               69.0"
      ]
     },
     "execution_count": 173,
     "metadata": {},
     "output_type": "execute_result"
    }
   ],
   "source": [
    "# check the missing values in each feature\n",
    "missing_values_table(df)"
   ]
  },
  {
   "cell_type": "markdown",
   "metadata": {},
   "source": [
    "# Manual Feature Selection"
   ]
  },
  {
   "cell_type": "code",
   "execution_count": 174,
   "metadata": {},
   "outputs": [],
   "source": [
    "feat_cols = ['odd_h', 'odd_d', 'odd_a', \n",
    "             'assist_method', 'location', \n",
    "             'side', 'shot_place', 'situation', \n",
    "             'bodypart', 'time', 'is_goal']\n",
    "\n",
    "df_feats = select_feats(df, feat_cols)\n",
    "df_feats['first_half'] = df_feats.time <= 45\n"
   ]
  },
  {
   "cell_type": "code",
   "execution_count": 50,
   "metadata": {},
   "outputs": [],
   "source": [
    "# def first_half(row):\n",
    "#     if row['time'] <= 45:\n",
    "#         return 1\n",
    "#     else:\n",
    "#         return 0\n",
    "    \n",
    "# df_feats['first_half'] = df.apply(lambda row: first_half(row), axis=1)"
   ]
  },
  {
   "cell_type": "code",
   "execution_count": 175,
   "metadata": {},
   "outputs": [
    {
     "name": "stdout",
     "output_type": "stream",
     "text": [
      "<class 'pandas.core.frame.DataFrame'>\n",
      "Int64Index: 941009 entries, 0 to 941008\n",
      "Data columns (total 12 columns):\n",
      "odd_h            941009 non-null float16\n",
      "odd_d            941009 non-null float16\n",
      "odd_a            941009 non-null float16\n",
      "assist_method    941009 non-null category\n",
      "location         941009 non-null category\n",
      "side             941009 non-null category\n",
      "shot_place       941009 non-null category\n",
      "situation        941009 non-null category\n",
      "bodypart         941009 non-null category\n",
      "time             941009 non-null int8\n",
      "is_goal          941009 non-null bool\n",
      "first_half       941009 non-null bool\n",
      "dtypes: bool(2), category(6), float16(3), int8(1)\n",
      "memory usage: 20.6 MB\n"
     ]
    }
   ],
   "source": [
    "df_feats.first_half = df_feats.first_half.astype('bool')\n",
    "df_feats.info()"
   ]
  },
  {
   "cell_type": "code",
   "execution_count": 176,
   "metadata": {},
   "outputs": [],
   "source": [
    "# Final chosen/engineered features\n",
    "features = ['odd_h', 'odd_d', 'odd_a', \n",
    "             'assist_method', 'location', \n",
    "             'side', 'shot_place', 'situation', \n",
    "             'bodypart', 'first_half', 'is_goal']"
   ]
  },
  {
   "cell_type": "code",
   "execution_count": null,
   "metadata": {},
   "outputs": [],
   "source": [
    "# # Duplicated rows indices\n",
    "# df_indices = df_feats[df_feats.duplicated(keep=False)]\n",
    "# df_indices = df_indices.groupby(df_indices.columns.tolist()).apply(lambda x: tuple(x.index)).tolist()"
   ]
  },
  {
   "cell_type": "markdown",
   "metadata": {},
   "source": [
    "# Explore the Data"
   ]
  },
  {
   "cell_type": "markdown",
   "metadata": {},
   "source": [
    "We need to know how some features might affect 'is_goal'"
   ]
  },
  {
   "cell_type": "code",
   "execution_count": 178,
   "metadata": {},
   "outputs": [
    {
     "data": {
      "text/plain": [
       "first_half   -0.003133\n",
       "odd_h         0.003646\n",
       "time          0.004524\n",
       "odd_a         0.017853\n",
       "odd_d         0.023307\n",
       "is_goal       1.000000\n",
       "Name: is_goal, dtype: float64"
      ]
     },
     "execution_count": 178,
     "metadata": {},
     "output_type": "execute_result"
    }
   ],
   "source": [
    "# Find correlations with the is_goal \n",
    "correlations = df_feats.corr()['is_goal'].sort_values()\n",
    "correlations"
   ]
  },
  {
   "cell_type": "code",
   "execution_count": 17,
   "metadata": {},
   "outputs": [],
   "source": [
    "import seaborn as sns\n",
    "%matplotlib inline \n",
    "#to plot the graphs inline on jupyter notebook"
   ]
  },
  {
   "cell_type": "code",
   "execution_count": 18,
   "metadata": {},
   "outputs": [
    {
     "data": {
      "image/png": "[encoded data removed]",
      "text/plain": [
       "<Figure size 432x288 with 1 Axes>"
      ]
     },
     "metadata": {
      "needs_background": "dark"
     },
     "output_type": "display_data"
    }
   ],
   "source": [
    "sns.barplot(df_feats.situation, df_feats.is_goal);"
   ]
  },
  {
   "cell_type": "code",
   "execution_count": 19,
   "metadata": {},
   "outputs": [
    {
     "data": {
      "image/png": "[encoded data removed]",
      "text/plain": [
       "<Figure size 432x288 with 1 Axes>"
      ]
     },
     "metadata": {
      "needs_background": "dark"
     },
     "output_type": "display_data"
    }
   ],
   "source": [
    "sns.barplot(df_feats.assist_method, df_feats.is_goal);"
   ]
  },
  {
   "cell_type": "code",
   "execution_count": 179,
   "metadata": {},
   "outputs": [
    {
     "data": {
      "image/png": "[encoded data removed]",
      "text/plain": [
       "<Figure size 432x288 with 1 Axes>"
      ]
     },
     "metadata": {
      "needs_background": "dark"
     },
     "output_type": "display_data"
    }
   ],
   "source": [
    "ax = sns.barplot(df_feats.is_goal , df_feats.location);\n",
    "plt.xticks(rotation=90);"
   ]
  },
  {
   "cell_type": "code",
   "execution_count": 21,
   "metadata": {},
   "outputs": [
    {
     "data": {
      "image/png": "[encoded data removed]",
      "text/plain": [
       "<Figure size 432x288 with 1 Axes>"
      ]
     },
     "metadata": {
      "needs_background": "dark"
     },
     "output_type": "display_data"
    }
   ],
   "source": [
    "sns.barplot(df_feats.side, df_feats.is_goal);"
   ]
  },
  {
   "cell_type": "code",
   "execution_count": 180,
   "metadata": {},
   "outputs": [
    {
     "data": {
      "image/png": "[encoded data removed]",
      "text/plain": [
       "<Figure size 432x288 with 1 Axes>"
      ]
     },
     "metadata": {
      "needs_background": "dark"
     },
     "output_type": "display_data"
    }
   ],
   "source": [
    "sns.barplot(df_feats.is_goal, df_feats.shot_place);\n",
    "plt.xticks(rotation=90);"
   ]
  },
  {
   "cell_type": "code",
   "execution_count": 23,
   "metadata": {},
   "outputs": [
    {
     "data": {
      "image/png": "[encoded data removed]",
      "text/plain": [
       "<Figure size 432x288 with 1 Axes>"
      ]
     },
     "metadata": {
      "needs_background": "dark"
     },
     "output_type": "display_data"
    }
   ],
   "source": [
    "sns.barplot(df_feats.first_half, df_feats.is_goal);"
   ]
  },
  {
   "cell_type": "code",
   "execution_count": 63,
   "metadata": {},
   "outputs": [
    {
     "data": {
      "image/png": "[encoded data removed]",
      "text/plain": [
       "<Figure size 432x288 with 1 Axes>"
      ]
     },
     "metadata": {
      "needs_background": "dark"
     },
     "output_type": "display_data"
    }
   ],
   "source": [
    "sns.barplot(df_feats.bodypart, df_feats.is_goal);"
   ]
  },
  {
   "cell_type": "code",
   "execution_count": 64,
   "metadata": {},
   "outputs": [
    {
     "data": {
      "text/html": [
       "<div>\n",
       "<style scoped>\n",
       "    .dataframe tbody tr th:only-of-type {\n",
       "        vertical-align: middle;\n",
       "    }\n",
       "\n",
       "    .dataframe tbody tr th {\n",
       "        vertical-align: top;\n",
       "    }\n",
       "\n",
       "    .dataframe thead th {\n",
       "        text-align: right;\n",
       "    }\n",
       "</style>\n",
       "<table border=\"1\" class=\"dataframe\">\n",
       "  <thead>\n",
       "    <tr style=\"text-align: right;\">\n",
       "      <th></th>\n",
       "      <th>bodypart</th>\n",
       "      <th>is_goal</th>\n",
       "      <th>Count</th>\n",
       "    </tr>\n",
       "  </thead>\n",
       "  <tbody>\n",
       "    <tr>\n",
       "      <th>0</th>\n",
       "      <td>left foot</td>\n",
       "      <td>False</td>\n",
       "      <td>64532</td>\n",
       "    </tr>\n",
       "    <tr>\n",
       "      <th>1</th>\n",
       "      <td>UNK</td>\n",
       "      <td>False</td>\n",
       "      <td>711823</td>\n",
       "    </tr>\n",
       "    <tr>\n",
       "      <th>2</th>\n",
       "      <td>right foot</td>\n",
       "      <td>False</td>\n",
       "      <td>108488</td>\n",
       "    </tr>\n",
       "    <tr>\n",
       "      <th>3</th>\n",
       "      <td>left foot</td>\n",
       "      <td>True</td>\n",
       "      <td>6758</td>\n",
       "    </tr>\n",
       "    <tr>\n",
       "      <th>4</th>\n",
       "      <td>head</td>\n",
       "      <td>False</td>\n",
       "      <td>31720</td>\n",
       "    </tr>\n",
       "    <tr>\n",
       "      <th>5</th>\n",
       "      <td>right foot</td>\n",
       "      <td>True</td>\n",
       "      <td>13451</td>\n",
       "    </tr>\n",
       "    <tr>\n",
       "      <th>6</th>\n",
       "      <td>head</td>\n",
       "      <td>True</td>\n",
       "      <td>4236</td>\n",
       "    </tr>\n",
       "    <tr>\n",
       "      <th>7</th>\n",
       "      <td>UNK</td>\n",
       "      <td>True</td>\n",
       "      <td>1</td>\n",
       "    </tr>\n",
       "  </tbody>\n",
       "</table>\n",
       "</div>"
      ],
      "text/plain": [
       "     bodypart  is_goal   Count\n",
       "0   left foot    False   64532\n",
       "1         UNK    False  711823\n",
       "2  right foot    False  108488\n",
       "3   left foot     True    6758\n",
       "4        head    False   31720\n",
       "5  right foot     True   13451\n",
       "6        head     True    4236\n",
       "7         UNK     True       1"
      ]
     },
     "execution_count": 64,
     "metadata": {},
     "output_type": "execute_result"
    }
   ],
   "source": [
    "df_feats.groupby(['bodypart', 'is_goal'], sort=False).size().reset_index(name='Count')"
   ]
  },
  {
   "cell_type": "markdown",
   "metadata": {},
   "source": [
    "## Train-Test Split"
   ]
  },
  {
   "cell_type": "code",
   "execution_count": 181,
   "metadata": {},
   "outputs": [],
   "source": [
    "from sklearn.model_selection import train_test_split"
   ]
  },
  {
   "cell_type": "code",
   "execution_count": 182,
   "metadata": {},
   "outputs": [],
   "source": [
    "training_features = df_feats.drop(columns=['is_goal', 'time'])\n",
    "training_target = df_feats.is_goal"
   ]
  },
  {
   "cell_type": "code",
   "execution_count": 183,
   "metadata": {},
   "outputs": [
    {
     "data": {
      "text/html": [
       "<div>\n",
       "<style scoped>\n",
       "    .dataframe tbody tr th:only-of-type {\n",
       "        vertical-align: middle;\n",
       "    }\n",
       "\n",
       "    .dataframe tbody tr th {\n",
       "        vertical-align: top;\n",
       "    }\n",
       "\n",
       "    .dataframe thead th {\n",
       "        text-align: right;\n",
       "    }\n",
       "</style>\n",
       "<table border=\"1\" class=\"dataframe\">\n",
       "  <thead>\n",
       "    <tr style=\"text-align: right;\">\n",
       "      <th></th>\n",
       "      <th>odd_h</th>\n",
       "      <th>odd_d</th>\n",
       "      <th>odd_a</th>\n",
       "      <th>assist_method</th>\n",
       "      <th>location</th>\n",
       "      <th>side</th>\n",
       "      <th>shot_place</th>\n",
       "      <th>situation</th>\n",
       "      <th>bodypart</th>\n",
       "      <th>first_half</th>\n",
       "    </tr>\n",
       "  </thead>\n",
       "  <tbody>\n",
       "    <tr>\n",
       "      <th>0</th>\n",
       "      <td>1.55957</td>\n",
       "      <td>4.410156</td>\n",
       "      <td>7.421875</td>\n",
       "      <td>Pass</td>\n",
       "      <td>Left side of the box</td>\n",
       "      <td>Away</td>\n",
       "      <td>High and wide</td>\n",
       "      <td>Open play</td>\n",
       "      <td>left foot</td>\n",
       "      <td>True</td>\n",
       "    </tr>\n",
       "    <tr>\n",
       "      <th>1</th>\n",
       "      <td>1.55957</td>\n",
       "      <td>4.410156</td>\n",
       "      <td>7.421875</td>\n",
       "      <td>UNK</td>\n",
       "      <td>UNK</td>\n",
       "      <td>Home</td>\n",
       "      <td>UNK</td>\n",
       "      <td>UNK</td>\n",
       "      <td>UNK</td>\n",
       "      <td>True</td>\n",
       "    </tr>\n",
       "    <tr>\n",
       "      <th>2</th>\n",
       "      <td>1.55957</td>\n",
       "      <td>4.410156</td>\n",
       "      <td>7.421875</td>\n",
       "      <td>UNK</td>\n",
       "      <td>UNK</td>\n",
       "      <td>Home</td>\n",
       "      <td>UNK</td>\n",
       "      <td>UNK</td>\n",
       "      <td>UNK</td>\n",
       "      <td>True</td>\n",
       "    </tr>\n",
       "    <tr>\n",
       "      <th>3</th>\n",
       "      <td>1.55957</td>\n",
       "      <td>4.410156</td>\n",
       "      <td>7.421875</td>\n",
       "      <td>UNK</td>\n",
       "      <td>UNK</td>\n",
       "      <td>Home</td>\n",
       "      <td>UNK</td>\n",
       "      <td>UNK</td>\n",
       "      <td>UNK</td>\n",
       "      <td>True</td>\n",
       "    </tr>\n",
       "    <tr>\n",
       "      <th>4</th>\n",
       "      <td>1.55957</td>\n",
       "      <td>4.410156</td>\n",
       "      <td>7.421875</td>\n",
       "      <td>UNK</td>\n",
       "      <td>Defensive half</td>\n",
       "      <td>Away</td>\n",
       "      <td>UNK</td>\n",
       "      <td>UNK</td>\n",
       "      <td>UNK</td>\n",
       "      <td>True</td>\n",
       "    </tr>\n",
       "  </tbody>\n",
       "</table>\n",
       "</div>"
      ],
      "text/plain": [
       "     odd_h     odd_d     odd_a assist_method              location  side     shot_place  situation   bodypart  first_half\n",
       "0  1.55957  4.410156  7.421875          Pass  Left side of the box  Away  High and wide  Open play  left foot        True\n",
       "1  1.55957  4.410156  7.421875           UNK                   UNK  Home            UNK        UNK        UNK        True\n",
       "2  1.55957  4.410156  7.421875           UNK                   UNK  Home            UNK        UNK        UNK        True\n",
       "3  1.55957  4.410156  7.421875           UNK                   UNK  Home            UNK        UNK        UNK        True\n",
       "4  1.55957  4.410156  7.421875           UNK        Defensive half  Away            UNK        UNK        UNK        True"
      ]
     },
     "execution_count": 183,
     "metadata": {},
     "output_type": "execute_result"
    }
   ],
   "source": [
    "training_features.head()"
   ]
  },
  {
   "cell_type": "code",
   "execution_count": 184,
   "metadata": {},
   "outputs": [],
   "source": [
    "side_map = {'Home': True, 'Away': False}\n",
    "training_features.side.replace(side_map, inplace=True)"
   ]
  },
  {
   "cell_type": "code",
   "execution_count": 185,
   "metadata": {},
   "outputs": [
    {
     "name": "stdout",
     "output_type": "stream",
     "text": [
      "<class 'pandas.core.frame.DataFrame'>\n",
      "Int64Index: 941009 entries, 0 to 941008\n",
      "Data columns (total 10 columns):\n",
      "odd_h            941009 non-null float16\n",
      "odd_d            941009 non-null float16\n",
      "odd_a            941009 non-null float16\n",
      "assist_method    941009 non-null category\n",
      "location         941009 non-null category\n",
      "side             941009 non-null bool\n",
      "shot_place       941009 non-null category\n",
      "situation        941009 non-null category\n",
      "bodypart         941009 non-null category\n",
      "first_half       941009 non-null bool\n",
      "dtypes: bool(2), category(5), float16(3)\n",
      "memory usage: 58.8 MB\n"
     ]
    }
   ],
   "source": [
    "training_features.info()"
   ]
  },
  {
   "cell_type": "code",
   "execution_count": 186,
   "metadata": {},
   "outputs": [],
   "source": [
    "# One-hot encoding for categorical columns\n",
    "df_feats_dumm = pd.get_dummies(training_features)"
   ]
  },
  {
   "cell_type": "code",
   "execution_count": 187,
   "metadata": {},
   "outputs": [
    {
     "name": "stdout",
     "output_type": "stream",
     "text": [
      "Number of featurs after one-hot encoding:  52\n"
     ]
    }
   ],
   "source": [
    "print('Number of featurs after one-hot encoding: ', len(df_feats_dumm.columns))"
   ]
  },
  {
   "cell_type": "code",
   "execution_count": 188,
   "metadata": {},
   "outputs": [],
   "source": [
    "x_train, x_val, y_train, y_val = train_test_split(df_feats_dumm, training_target,\n",
    "                                                  test_size = .1,\n",
    "                                                  random_state=12)\n"
   ]
  },
  {
   "cell_type": "code",
   "execution_count": 189,
   "metadata": {},
   "outputs": [
    {
     "data": {
      "text/plain": [
       "(846908, 52)"
      ]
     },
     "execution_count": 189,
     "metadata": {},
     "output_type": "execute_result"
    }
   ],
   "source": [
    "x_train.shape"
   ]
  },
  {
   "cell_type": "code",
   "execution_count": 190,
   "metadata": {},
   "outputs": [
    {
     "data": {
      "text/plain": [
       "(94101, 52)"
      ]
     },
     "execution_count": 190,
     "metadata": {},
     "output_type": "execute_result"
    }
   ],
   "source": [
    "x_val.shape"
   ]
  },
  {
   "cell_type": "markdown",
   "metadata": {},
   "source": [
    "# Without handling class imbalance"
   ]
  },
  {
   "cell_type": "code",
   "execution_count": 191,
   "metadata": {},
   "outputs": [],
   "source": [
    "training_features = df_feats.drop(columns=['is_goal', 'time'])\n",
    "training_target = df_feats.is_goal"
   ]
  },
  {
   "cell_type": "code",
   "execution_count": 192,
   "metadata": {},
   "outputs": [],
   "source": [
    "x_train, x_val, y_train, y_val = train_test_split(df_feats_dumm, training_target,\n",
    "                                                  test_size = .1,\n",
    "                                                  random_state=12)\n"
   ]
  },
  {
   "cell_type": "code",
   "execution_count": 193,
   "metadata": {},
   "outputs": [
    {
     "name": "stdout",
     "output_type": "stream",
     "text": [
      "Accuracy:  0.9841659493522917\n",
      "Balanced Acc:  0.8037608442451609\n"
     ]
    }
   ],
   "source": [
    "model = LogisticRegression()\n",
    "model.fit(x_train, y_train)\n",
    "\n",
    "# make predictions\n",
    "expected = y_val\n",
    "predicted = model.predict(x_val)\n",
    "\n",
    "\n",
    "# summarize the fit of the model\n",
    "# print(metrics.classification_report(expected, predicted))\n",
    "# print(metrics.confusion_matrix(expected, predicted))\n",
    "\n",
    "print('Accuracy: ', metrics.accuracy_score(expected, predicted))\n",
    "print('Balanced Acc: ', metrics.balanced_accuracy_score(expected, predicted))"
   ]
  },
  {
   "cell_type": "markdown",
   "metadata": {},
   "source": [
    "# Handling imbalance classes"
   ]
  },
  {
   "cell_type": "markdown",
   "metadata": {},
   "source": [
    "we have class imbalance, we will use evaluation metrics different from accuracy which include (True positive, True negative, False positive, False negative)"
   ]
  },
  {
   "cell_type": "code",
   "execution_count": 194,
   "metadata": {
    "scrolled": true
   },
   "outputs": [
    {
     "data": {
      "text/plain": [
       "<matplotlib.axes._subplots.AxesSubplot at 0x7f94f0f23ef0>"
      ]
     },
     "execution_count": 194,
     "metadata": {},
     "output_type": "execute_result"
    },
    {
     "data": {
      "image/png": "[encoded data removed]",
      "text/plain": [
       "<Figure size 432x288 with 1 Axes>"
      ]
     },
     "metadata": {
      "needs_background": "dark"
     },
     "output_type": "display_data"
    }
   ],
   "source": [
    "# distribution of the response variable\n",
    "# plt.hist(df_feats.is_goal.astype('int'));\n",
    "# plt.xticks(np.arange(0, 1.1, step=1))\n",
    "sns.countplot(df_feats.is_goal)\n",
    "# plt.bar(['Is goal', 'Not goal'], [df_feats.is_goal.sum(), len(df_feats)- df_feats.is_goal.sum()])"
   ]
  },
  {
   "cell_type": "code",
   "execution_count": 195,
   "metadata": {},
   "outputs": [],
   "source": [
    "from imblearn.under_sampling import RandomUnderSampler\n",
    "from collections import Counter"
   ]
  },
  {
   "cell_type": "code",
   "execution_count": 196,
   "metadata": {},
   "outputs": [
    {
     "name": "stdout",
     "output_type": "stream",
     "text": [
      "Original dataset shape Counter({False: 824932, True: 21976})\n"
     ]
    }
   ],
   "source": [
    "print('Original dataset shape %s' % Counter(y_train))"
   ]
  },
  {
   "cell_type": "code",
   "execution_count": 197,
   "metadata": {},
   "outputs": [],
   "source": [
    "rus = RandomUnderSampler(random_state=42)\n",
    "X_res_u, y_res_u = rus.fit_resample(x_train, y_train)"
   ]
  },
  {
   "cell_type": "code",
   "execution_count": 198,
   "metadata": {},
   "outputs": [
    {
     "name": "stdout",
     "output_type": "stream",
     "text": [
      "Resampled dataset shape Counter({False: 21976, True: 21976})\n"
     ]
    }
   ],
   "source": [
    "print('Resampled dataset shape %s' % Counter(y_res_u))"
   ]
  },
  {
   "cell_type": "markdown",
   "metadata": {},
   "source": [
    "## Logistic Regression model"
   ]
  },
  {
   "cell_type": "code",
   "execution_count": 200,
   "metadata": {},
   "outputs": [
    {
     "name": "stdout",
     "output_type": "stream",
     "text": [
      "LogisticRegression(C=1.0, class_weight=None, dual=False, fit_intercept=True,\n",
      "          intercept_scaling=1, max_iter=100, multi_class='warn',\n",
      "          n_jobs=None, penalty='l2', random_state=None, solver='warn',\n",
      "          tol=0.0001, verbose=0, warm_start=False)\n",
      "              precision    recall  f1-score   support\n",
      "\n",
      "       False       1.00      0.94      0.97     91631\n",
      "        True       0.32      1.00      0.49      2470\n",
      "\n",
      "   micro avg       0.95      0.95      0.95     94101\n",
      "   macro avg       0.66      0.97      0.73     94101\n",
      "weighted avg       0.98      0.95      0.96     94101\n",
      "\n",
      "[[86463  5168]\n",
      " [    0  2470]]\n",
      "Accuracy:  0.9450802860755996\n",
      "Balanced Acc:  0.9717999367026443\n"
     ]
    }
   ],
   "source": [
    "from sklearn import metrics\n",
    "from sklearn.linear_model import LogisticRegression\n",
    "\n",
    "model = LogisticRegression()\n",
    "model.fit(X_res_u, y_res_u)\n",
    "\n",
    "print(model)\n",
    "\n",
    "# make predictions\n",
    "expected = y_val\n",
    "predicted = model.predict(x_val)\n",
    "\n",
    "# summarize the fit of the model\n",
    "print(metrics.classification_report(expected, predicted))\n",
    "print(metrics.confusion_matrix(expected, predicted))\n",
    "\n",
    "print('Accuracy: ', metrics.accuracy_score(expected, predicted))\n",
    "print('Balanced Acc: ', metrics.balanced_accuracy_score(expected, predicted))"
   ]
  },
  {
   "cell_type": "code",
   "execution_count": 119,
   "metadata": {},
   "outputs": [],
   "source": [
    "# Find the residuals\n",
    "pred = predicted.astype('int8')\n",
    "y = y_val.as_matrix().astype('int8')\n",
    "residuals = abs(pred - y)\n",
    "x = x_val.as_matrix()\n",
    "# Extract the most wrong prediction\n",
    "wrong = x[np.argmax(residuals), :]"
   ]
  },
  {
   "cell_type": "code",
   "execution_count": 105,
   "metadata": {},
   "outputs": [],
   "source": [
    "from lime import lime_tabular\n",
    "\n",
    "# Create a lime explainer object\n",
    "explainer = lime_tabular.LimeTabularExplainer(training_data = X_res_u, \n",
    "                                                   mode = 'classification',\n",
    "                                                   training_labels = y_res_u,\n",
    "                                                   feature_names = df_feats_dumm.columns.tolist())"
   ]
  },
  {
   "cell_type": "code",
   "execution_count": 124,
   "metadata": {},
   "outputs": [
    {
     "data": {
      "image/png": "[encoded data removed]",
      "text/plain": [
       "<Figure size 432x288 with 1 Axes>"
      ]
     },
     "metadata": {
      "needs_background": "dark"
     },
     "output_type": "display_data"
    }
   ],
   "source": [
    "# Explanation for wrong prediction\n",
    "exp = explainer.explain_instance(data_row = wrong, \n",
    "                                     predict_fn = model.predict_proba, labels=(0,1))\n",
    "\n",
    "# Plot the prediction explaination\n",
    "exp.as_pyplot_figure(label=0);"
   ]
  },
  {
   "cell_type": "markdown",
   "metadata": {},
   "source": [
    "# Gradient Boosting model"
   ]
  },
  {
   "cell_type": "code",
   "execution_count": 201,
   "metadata": {
    "scrolled": true
   },
   "outputs": [
    {
     "name": "stdout",
     "output_type": "stream",
     "text": [
      "              precision    recall  f1-score   support\n",
      "\n",
      "       False       1.00      0.94      0.97     91631\n",
      "        True       0.32      1.00      0.49      2470\n",
      "\n",
      "   micro avg       0.94      0.94      0.94     94101\n",
      "   macro avg       0.66      0.97      0.73     94101\n",
      "weighted avg       0.98      0.94      0.96     94101\n",
      "\n",
      "[[86439  5192]\n",
      " [    1  2469]]\n",
      "Accuracy:  0.9448146140848662\n",
      "Balanced Acc:  0.9714665475065742\n"
     ]
    }
   ],
   "source": [
    "from sklearn.ensemble import GradientBoostingClassifier\n",
    "\n",
    "# Create the model\n",
    "gradient_boosted = GradientBoostingClassifier()\n",
    "\n",
    "# Fit the model on the training data\n",
    "gradient_boosted.fit(X_res_u, y_res_u)\n",
    "\n",
    "# Make predictions on the test data\n",
    "predictions = gradient_boosted.predict(x_val)\n",
    "\n",
    "# summarize the fit of the model\n",
    "print(metrics.classification_report(y_val, predictions))\n",
    "print(metrics.confusion_matrix(y_val, predictions))\n",
    "\n",
    "# Evaluate the model\n",
    "print('Accuracy: ', metrics.accuracy_score(y_val, predictions))\n",
    "print('Balanced Acc: ', metrics.balanced_accuracy_score(y_val, predictions))"
   ]
  },
  {
   "cell_type": "markdown",
   "metadata": {},
   "source": [
    "# Support Vector Machine"
   ]
  },
  {
   "cell_type": "code",
   "execution_count": 202,
   "metadata": {
    "scrolled": true
   },
   "outputs": [
    {
     "name": "stdout",
     "output_type": "stream",
     "text": [
      "              precision    recall  f1-score   support\n",
      "\n",
      "       False       1.00      0.94      0.97     91631\n",
      "        True       0.31      1.00      0.47      2470\n",
      "\n",
      "   micro avg       0.94      0.94      0.94     94101\n",
      "   macro avg       0.65      0.97      0.72     94101\n",
      "weighted avg       0.98      0.94      0.96     94101\n",
      "\n",
      "[[86012  5619]\n",
      " [    0  2470]]\n",
      "Accuracy:  0.9402875633627698\n",
      "Balanced Acc:  0.9693389791664393\n"
     ]
    }
   ],
   "source": [
    "from sklearn.svm import SVC\n",
    "\n",
    "# Create the model\n",
    "svm = SVC()\n",
    "\n",
    "# Fit the model on the training data\n",
    "svm.fit(X_res_u, y_res_u)\n",
    "\n",
    "# Make predictions on the test data\n",
    "predictions = svm.predict(x_val)\n",
    "\n",
    "# summarize the fit of the model\n",
    "print(metrics.classification_report(y_val, predictions))\n",
    "print(metrics.confusion_matrix(y_val, predictions))\n",
    "\n",
    "# Evaluate the model\n",
    "print('Accuracy: ', metrics.accuracy_score(y_val, predictions))\n",
    "print('Balanced Acc: ', metrics.balanced_accuracy_score(y_val, predictions))"
   ]
  },
  {
   "cell_type": "markdown",
   "metadata": {},
   "source": [
    "## Random Forest"
   ]
  },
  {
   "cell_type": "code",
   "execution_count": 126,
   "metadata": {},
   "outputs": [],
   "source": [
    "def plot_feature_importances(df):\n",
    "    \"\"\"\n",
    "    Plot importances returned by a model. This can work with any measure of\n",
    "    feature importance provided that higher importance is better. \n",
    "    \n",
    "    Args:\n",
    "        df (dataframe): feature importances. Must have the features in a column\n",
    "        called `features` and the importances in a column called `importance\n",
    "        \n",
    "    Returns:\n",
    "        shows a plot of the 15 most importance features\n",
    "        \n",
    "        df (dataframe): feature importances sorted by importance (highest to lowest) \n",
    "        with a column for normalized importance\n",
    "        \"\"\"\n",
    "    \n",
    "    # Sort features according to importance\n",
    "    df = df.sort_values('importance', ascending = False).reset_index()\n",
    "    \n",
    "    # Normalize the feature importances to add up to one\n",
    "    df['importance_normalized'] = df['importance'] / df['importance'].sum()\n",
    "\n",
    "    # Make a horizontal bar chart of feature importances\n",
    "    plt.figure(figsize = (10, 6))\n",
    "    ax = plt.subplot()\n",
    "    \n",
    "    # Need to reverse the index to plot most important on top\n",
    "    ax.barh(list(reversed(list(df.index[:15]))), \n",
    "            df['importance_normalized'].head(15), \n",
    "            align = 'center', edgecolor = 'k')\n",
    "    \n",
    "    # Set the yticks and labels\n",
    "    ax.set_yticks(list(reversed(list(df.index[:15]))))\n",
    "    ax.set_yticklabels(df['feature'].head(15))\n",
    "    \n",
    "    # Plot labeling\n",
    "    plt.xlabel('Normalized Importance'); plt.title('Feature Importances')\n",
    "    plt.show()\n",
    "    \n",
    "    return df"
   ]
  },
  {
   "cell_type": "code",
   "execution_count": 203,
   "metadata": {},
   "outputs": [
    {
     "name": "stderr",
     "output_type": "stream",
     "text": [
      "[Parallel(n_jobs=-1)]: Using backend ThreadingBackend with 8 concurrent workers.\n",
      "[Parallel(n_jobs=-1)]: Done  34 tasks      | elapsed:    0.3s\n",
      "[Parallel(n_jobs=-1)]: Done 100 out of 100 | elapsed:    0.8s finished\n",
      "[Parallel(n_jobs=8)]: Using backend ThreadingBackend with 8 concurrent workers.\n",
      "[Parallel(n_jobs=8)]: Done  34 tasks      | elapsed:    0.1s\n",
      "[Parallel(n_jobs=8)]: Done 100 out of 100 | elapsed:    0.2s finished\n"
     ]
    },
    {
     "name": "stdout",
     "output_type": "stream",
     "text": [
      "              precision    recall  f1-score   support\n",
      "\n",
      "       False       1.00      0.95      0.97     91631\n",
      "        True       0.35      0.99      0.52      2470\n",
      "\n",
      "   micro avg       0.95      0.95      0.95     94101\n",
      "   macro avg       0.68      0.97      0.75     94101\n",
      "weighted avg       0.98      0.95      0.96     94101\n",
      "\n",
      "[[87092  4539]\n",
      " [   21  2449]]\n",
      "Accuracy:  0.951541428890235\n",
      "Balanced Acc:  0.9709811691029551\n"
     ]
    },
    {
     "data": {
      "image/png": "[encoded data removed]",
      "text/plain": [
       "<Figure size 720x432 with 1 Axes>"
      ]
     },
     "metadata": {
      "needs_background": "dark"
     },
     "output_type": "display_data"
    }
   ],
   "source": [
    "from sklearn.ensemble import RandomForestClassifier\n",
    "\n",
    "# Make the random forest classifier\n",
    "random_forest = RandomForestClassifier(n_estimators = 100, random_state = 12, verbose = 1, n_jobs = -1)\n",
    "# Train on the training data\n",
    "random_forest.fit(X_res_u, y_res_u);\n",
    "\n",
    "# Feature names\n",
    "features = list(df_feats_dumm.columns)\n",
    "\n",
    "# Extract feature importances\n",
    "feature_importance_values = random_forest.feature_importances_\n",
    "feature_importances = pd.DataFrame({'feature': features, 'importance': feature_importance_values})\n",
    "\n",
    "# Make predictions on the test data\n",
    "predictions = random_forest.predict(x_val)\n",
    "\n",
    "# summarize the fit of the model\n",
    "print(metrics.classification_report(y_val, predictions))\n",
    "print(metrics.confusion_matrix(y_val, predictions))\n",
    "\n",
    "print('Accuracy: ', metrics.accuracy_score(y_val, predictions))\n",
    "print('Balanced Acc: ', metrics.balanced_accuracy_score(y_val, predictions))\n",
    "\n",
    "# Show the feature importances for the default features\n",
    "feature_importances_sorted = plot_feature_importances(feature_importances)"
   ]
  },
  {
   "cell_type": "markdown",
   "metadata": {},
   "source": [
    "# 2nd Trial: SMOTENC and Remove null vals"
   ]
  },
  {
   "cell_type": "markdown",
   "metadata": {},
   "source": [
    "Using the same manually chosen features"
   ]
  },
  {
   "cell_type": "code",
   "execution_count": 135,
   "metadata": {},
   "outputs": [
    {
     "name": "stdout",
     "output_type": "stream",
     "text": [
      "<class 'pandas.core.frame.DataFrame'>\n",
      "Int64Index: 941009 entries, 0 to 941008\n",
      "Data columns (total 12 columns):\n",
      "odd_h            941009 non-null float16\n",
      "odd_d            941009 non-null float16\n",
      "odd_a            941009 non-null float16\n",
      "assist_method    941009 non-null category\n",
      "location         941009 non-null category\n",
      "side             941009 non-null category\n",
      "shot_place       941009 non-null category\n",
      "situation        941009 non-null category\n",
      "bodypart         941009 non-null category\n",
      "time             941009 non-null int8\n",
      "is_goal          941009 non-null bool\n",
      "first_half       941009 non-null bool\n",
      "dtypes: bool(2), category(6), float16(3), int8(1)\n",
      "memory usage: 60.6 MB\n"
     ]
    }
   ],
   "source": [
    "df_feats.info()"
   ]
  },
  {
   "cell_type": "code",
   "execution_count": null,
   "metadata": {},
   "outputs": [],
   "source": [
    "# Drop NA values\n",
    "df_feat = df_feats.copy()\n",
    "df_feat.dropna(inplace=True)\n",
    "df_feat.info()"
   ]
  },
  {
   "cell_type": "code",
   "execution_count": null,
   "metadata": {},
   "outputs": [],
   "source": [
    "from imblearn.over_sampling import SMOTENC\n",
    "from collections import Counter "
   ]
  },
  {
   "cell_type": "code",
   "execution_count": null,
   "metadata": {},
   "outputs": [],
   "source": [
    "print('Original dataset shape %s' % Counter(y_train))"
   ]
  },
  {
   "cell_type": "code",
   "execution_count": null,
   "metadata": {},
   "outputs": [],
   "source": [
    "x_train.iloc[0,1]\n",
    "num_feats = len(x_train.columns)\n",
    "x_train.head()\n",
    "cat_indices = np.arange(3, num_feats)\n",
    "cat_indices"
   ]
  },
  {
   "cell_type": "code",
   "execution_count": null,
   "metadata": {},
   "outputs": [],
   "source": [
    "# res_smote = SMOTENC(categorical_features= cat_indices, random_state=42)\n",
    "# X_res, y_res = res_smote.fit_resample(x_train, y_train)"
   ]
  },
  {
   "cell_type": "code",
   "execution_count": null,
   "metadata": {},
   "outputs": [],
   "source": [
    "# save SMOTE resampled dataset after removing the null values\n",
    "df_X_smote = pd.DataFrame(X_res, columns=df_feats_dumm.columns)\n",
    "df_y_smote = pd.DataFrame(y_res, columns=['is_goal'])\n",
    "df_X_smote.to_csv('../X_res_SMOTE.csv')\n",
    "df_y_smote.to_csv('../y_res_SMOTE.csv')"
   ]
  },
  {
   "cell_type": "code",
   "execution_count": null,
   "metadata": {},
   "outputs": [],
   "source": [
    "print('Resampled dataset shape %s' % Counter(y_res))"
   ]
  },
  {
   "cell_type": "markdown",
   "metadata": {},
   "source": [
    "## Logistic Regression model"
   ]
  },
  {
   "cell_type": "code",
   "execution_count": null,
   "metadata": {},
   "outputs": [],
   "source": [
    "from sklearn import metrics\n",
    "from sklearn.linear_model import LogisticRegression\n",
    "\n",
    "model = LogisticRegression()\n",
    "model.fit(X_res, y_res)\n",
    "\n",
    "# make predictions\n",
    "expected = y_val\n",
    "predicted = model.predict(x_val)\n",
    "\n",
    "# summarize the fit of the model\n",
    "print(metrics.classification_report(expected, predicted))\n",
    "print(metrics.confusion_matrix(expected, predicted))\n",
    "\n",
    "print('Accuracy: ', metrics.accuracy_score(expected, predicted))\n",
    "print('Balanced Acc: ', metrics.balanced_accuracy_score(expected, predicted))"
   ]
  },
  {
   "cell_type": "markdown",
   "metadata": {},
   "source": [
    "## Random Forest"
   ]
  },
  {
   "cell_type": "code",
   "execution_count": null,
   "metadata": {},
   "outputs": [],
   "source": [
    "# Make the random forest classifier\n",
    "random_forest = RandomForestClassifier(n_estimators = 100, random_state = 12, verbose = 1, n_jobs = -1)\n",
    "# Train on the training data\n",
    "random_forest.fit(X_res, y_res);\n",
    "\n",
    "# Feature names\n",
    "features = list(df_feats_dumm.columns)\n",
    "\n",
    "# Extract feature importances\n",
    "feature_importance_values = random_forest.feature_importances_\n",
    "feature_importances = pd.DataFrame({'feature': features, 'importance': feature_importance_values})\n",
    "\n",
    "# Make predictions on the test data\n",
    "predictions = random_forest.predict(x_val)\n",
    "\n",
    "# summarize the fit of the model\n",
    "print(metrics.classification_report(y_val, predictions))\n",
    "print(metrics.confusion_matrix(y_val, predictions))\n",
    "\n",
    "print('Accuracy: ', metrics.accuracy_score(y_val, predictions))\n",
    "print('Balanced Acc: ', metrics.balanced_accuracy_score(y_val, predictions))\n",
    "\n",
    "# Show the feature importances for the default features\n",
    "feature_importances_sorted = plot_feature_importances(feature_importances)"
   ]
  },
  {
   "cell_type": "markdown",
   "metadata": {},
   "source": [
    "# 3rd Trial: remove nulls and Random Over Sampling"
   ]
  },
  {
   "cell_type": "code",
   "execution_count": null,
   "metadata": {},
   "outputs": [],
   "source": [
    "df_feats.dropna(inplace = True)\n",
    "df_feats.info()"
   ]
  },
  {
   "cell_type": "code",
   "execution_count": null,
   "metadata": {},
   "outputs": [],
   "source": [
    "training_features = df_feats.drop(columns=['is_goal'])\n",
    "training_target = df_feats.is_goal"
   ]
  },
  {
   "cell_type": "markdown",
   "metadata": {},
   "source": [
    "we have class imbalance, we will use evaluation metrics different from accuracy which include (True positive, True negative, False positive, False negative)"
   ]
  },
  {
   "cell_type": "code",
   "execution_count": null,
   "metadata": {},
   "outputs": [],
   "source": [
    "# One-hot encoding for categorical columns\n",
    "df_feats_dumm = pd.get_dummies(training_features)"
   ]
  },
  {
   "cell_type": "code",
   "execution_count": null,
   "metadata": {},
   "outputs": [],
   "source": [
    "x_train, x_val, y_train, y_val = train_test_split(df_feats_dumm, training_target,\n",
    "                                                  test_size = .1,\n",
    "                                                  random_state=12)\n"
   ]
  },
  {
   "cell_type": "code",
   "execution_count": null,
   "metadata": {},
   "outputs": [],
   "source": [
    "x_train.shape"
   ]
  },
  {
   "cell_type": "code",
   "execution_count": null,
   "metadata": {},
   "outputs": [],
   "source": [
    "x_val.shape"
   ]
  },
  {
   "cell_type": "markdown",
   "metadata": {},
   "source": [
    "## Handling imbalance classes: Random Over Sampling"
   ]
  },
  {
   "cell_type": "code",
   "execution_count": null,
   "metadata": {
    "scrolled": true
   },
   "outputs": [],
   "source": [
    "# distribution of the response variable\n",
    "df_feats.is_goal.astype('int').hist();"
   ]
  },
  {
   "cell_type": "code",
   "execution_count": null,
   "metadata": {},
   "outputs": [],
   "source": [
    "from imblearn.over_sampling import RandomOverSampler\n",
    "from collections import Counter"
   ]
  },
  {
   "cell_type": "code",
   "execution_count": null,
   "metadata": {},
   "outputs": [],
   "source": [
    "print('Original dataset shape %s' % Counter(y_train))"
   ]
  },
  {
   "cell_type": "code",
   "execution_count": null,
   "metadata": {},
   "outputs": [],
   "source": [
    "rus = RandomOverSampler(random_state=42)\n",
    "X_res_o, y_res_o = rus.fit_resample(x_train, y_train)"
   ]
  },
  {
   "cell_type": "code",
   "execution_count": null,
   "metadata": {},
   "outputs": [],
   "source": [
    "print('Resampled dataset shape %s' % Counter(y_res_o))"
   ]
  },
  {
   "cell_type": "markdown",
   "metadata": {},
   "source": [
    "## Logistic Regression model"
   ]
  },
  {
   "cell_type": "code",
   "execution_count": null,
   "metadata": {},
   "outputs": [],
   "source": [
    "from sklearn import metrics\n",
    "from sklearn.linear_model import LogisticRegression\n",
    "\n",
    "model = LogisticRegression()\n",
    "model.fit(X_res_o, y_res_o)\n",
    "\n",
    "print(model)\n",
    "\n",
    "# make predictions\n",
    "expected = y_val\n",
    "predicted = model.predict(x_val)\n",
    "\n",
    "# summarize the fit of the model\n",
    "print(metrics.classification_report(expected, predicted))\n",
    "print(metrics.confusion_matrix(expected, predicted))\n",
    "\n",
    "print('Accuracy: ', metrics.accuracy_score(expected, predicted))\n",
    "print('Balanced Acc: ', metrics.balanced_accuracy_score(expected, predicted))"
   ]
  },
  {
   "cell_type": "markdown",
   "metadata": {},
   "source": [
    "## Random Forest"
   ]
  },
  {
   "cell_type": "code",
   "execution_count": null,
   "metadata": {},
   "outputs": [],
   "source": [
    "# Make the random forest classifier\n",
    "random_forest = RandomForestClassifier(n_estimators = 100, random_state = 12, verbose = 1, n_jobs = -1)\n",
    "# Train on the training data\n",
    "random_forest.fit(X_res_o, y_res_o);\n",
    "\n",
    "# Feature names\n",
    "features = list(df_feats_dumm.columns)\n",
    "\n",
    "# Extract feature importances\n",
    "feature_importance_values = random_forest.feature_importances_\n",
    "feature_importances = pd.DataFrame({'feature': features, 'importance': feature_importance_values})\n",
    "\n",
    "# Make predictions on the test data\n",
    "predictions = random_forest.predict(x_val)\n",
    "\n",
    "# summarize the fit of the model\n",
    "print(metrics.classification_report(y_val, predictions))\n",
    "print(metrics.confusion_matrix(y_val, predictions))\n",
    "\n",
    "print('Accuracy: ', metrics.accuracy_score(y_val, predictions))\n",
    "print('Balanced Acc: ', metrics.balanced_accuracy_score(y_val, predictions))\n",
    "\n",
    "# Show the feature importances for the default features\n",
    "feature_importances_sorted = plot_feature_importances(feature_importances)"
   ]
  },
  {
   "cell_type": "markdown",
   "metadata": {},
   "source": [
    "# Trial #4 Filling null values with 'UNK' and using SMOTENC"
   ]
  },
  {
   "cell_type": "code",
   "execution_count": 136,
   "metadata": {},
   "outputs": [],
   "source": [
    "from imblearn.over_sampling import SMOTENC\n",
    "from collections import Counter "
   ]
  },
  {
   "cell_type": "code",
   "execution_count": 137,
   "metadata": {},
   "outputs": [
    {
     "name": "stdout",
     "output_type": "stream",
     "text": [
      "Original dataset shape Counter({False: 824932, True: 21976})\n"
     ]
    }
   ],
   "source": [
    "print('Original dataset shape %s' % Counter(y_train))"
   ]
  },
  {
   "cell_type": "code",
   "execution_count": 142,
   "metadata": {},
   "outputs": [
    {
     "data": {
      "text/plain": [
       "array([ 3,  4,  5,  6,  7,  8,  9, 10, 11, 12, 13, 14, 15, 16, 17, 18, 19,\n",
       "       20, 21, 22, 23, 24, 25, 26, 27, 28, 29, 30, 31, 32, 33, 34, 35, 36,\n",
       "       37, 38, 39, 40, 41, 42, 43, 44, 45, 46, 47, 48, 49, 50, 51])"
      ]
     },
     "execution_count": 142,
     "metadata": {},
     "output_type": "execute_result"
    }
   ],
   "source": [
    "x_train.iloc[0,1]\n",
    "num_feats = len(x_train.columns)\n",
    "x_train.head()\n",
    "cat_indices = np.arange(3, num_feats)\n",
    "cat_indices"
   ]
  },
  {
   "cell_type": "code",
   "execution_count": 143,
   "metadata": {},
   "outputs": [],
   "source": [
    "# res_smote = SMOTENC(categorical_features= cat_indices, random_state=42)\n",
    "# X_res, y_res = res_smote.fit_resample(x_train, y_train)"
   ]
  },
  {
   "cell_type": "code",
   "execution_count": 144,
   "metadata": {},
   "outputs": [],
   "source": [
    "# save SMOTE resampled dataset after removing the null values\n",
    "df_X_smote = pd.DataFrame(X_res, columns=df_feats_dumm.columns)\n",
    "df_y_smote = pd.DataFrame(y_res, columns=['is_goal'])\n",
    "df_X_smote.to_csv('../X_res_SMOTE_UNK.csv')\n",
    "df_y_smote.to_csv('../y_res_SMOTE_UNK.csv')"
   ]
  },
  {
   "cell_type": "code",
   "execution_count": 145,
   "metadata": {},
   "outputs": [
    {
     "name": "stdout",
     "output_type": "stream",
     "text": [
      "Resampled dataset shape Counter({False: 824932, True: 824932})\n"
     ]
    }
   ],
   "source": [
    "print('Resampled dataset shape %s' % Counter(y_res))"
   ]
  },
  {
   "cell_type": "markdown",
   "metadata": {},
   "source": [
    "## Logistic Regression model"
   ]
  },
  {
   "cell_type": "code",
   "execution_count": 146,
   "metadata": {},
   "outputs": [
    {
     "name": "stdout",
     "output_type": "stream",
     "text": [
      "              precision    recall  f1-score   support\n",
      "\n",
      "       False       1.00      0.95      0.97     91631\n",
      "        True       0.34      0.99      0.51      2470\n",
      "\n",
      "   micro avg       0.95      0.95      0.95     94101\n",
      "   macro avg       0.67      0.97      0.74     94101\n",
      "weighted avg       0.98      0.95      0.96     94101\n",
      "\n",
      "[[86870  4761]\n",
      " [   21  2449]]\n",
      "Accuracy:  0.9491822616125227\n",
      "Balanced Acc:  0.9697697886749339\n"
     ]
    }
   ],
   "source": [
    "from sklearn import metrics\n",
    "from sklearn.linear_model import LogisticRegression\n",
    "\n",
    "model = LogisticRegression()\n",
    "model.fit(X_res, y_res)\n",
    "\n",
    "# make predictions\n",
    "expected = y_val\n",
    "predicted = model.predict(x_val)\n",
    "\n",
    "# summarize the fit of the model\n",
    "print(metrics.classification_report(expected, predicted))\n",
    "print(metrics.confusion_matrix(expected, predicted))\n",
    "\n",
    "print('Accuracy: ', metrics.accuracy_score(expected, predicted))\n",
    "print('Balanced Acc: ', metrics.balanced_accuracy_score(expected, predicted))"
   ]
  },
  {
   "cell_type": "markdown",
   "metadata": {},
   "source": [
    "## Random Forest"
   ]
  },
  {
   "cell_type": "code",
   "execution_count": 147,
   "metadata": {},
   "outputs": [
    {
     "name": "stderr",
     "output_type": "stream",
     "text": [
      "[Parallel(n_jobs=-1)]: Using backend ThreadingBackend with 8 concurrent workers.\n",
      "[Parallel(n_jobs=-1)]: Done  34 tasks      | elapsed:   41.1s\n",
      "[Parallel(n_jobs=-1)]: Done 100 out of 100 | elapsed:  1.8min finished\n",
      "[Parallel(n_jobs=8)]: Using backend ThreadingBackend with 8 concurrent workers.\n",
      "[Parallel(n_jobs=8)]: Done  34 tasks      | elapsed:    0.1s\n",
      "[Parallel(n_jobs=8)]: Done 100 out of 100 | elapsed:    0.2s finished\n"
     ]
    },
    {
     "name": "stdout",
     "output_type": "stream",
     "text": [
      "              precision    recall  f1-score   support\n",
      "\n",
      "       False       0.99      0.98      0.99     91631\n",
      "        True       0.49      0.79      0.61      2470\n",
      "\n",
      "   micro avg       0.97      0.97      0.97     94101\n",
      "   macro avg       0.74      0.88      0.80     94101\n",
      "weighted avg       0.98      0.97      0.98     94101\n",
      "\n",
      "[[89600  2031]\n",
      " [  514  1956]]\n",
      "Accuracy:  0.9729545913433438\n",
      "Balanced Acc:  0.8848689230882341\n"
     ]
    },
    {
     "data": {
      "image/png": "[encoded data removed]",
      "text/plain": [
       "<Figure size 720x432 with 1 Axes>"
      ]
     },
     "metadata": {
      "needs_background": "dark"
     },
     "output_type": "display_data"
    }
   ],
   "source": [
    "# Make the random forest classifier\n",
    "random_forest = RandomForestClassifier(n_estimators = 100, random_state = 12, verbose = 1, n_jobs = -1)\n",
    "# Train on the training data\n",
    "random_forest.fit(X_res, y_res);\n",
    "\n",
    "# Feature names\n",
    "features = list(df_feats_dumm.columns)\n",
    "\n",
    "# Extract feature importances\n",
    "feature_importance_values = random_forest.feature_importances_\n",
    "feature_importances = pd.DataFrame({'feature': features, 'importance': feature_importance_values})\n",
    "\n",
    "# Make predictions on the test data\n",
    "predictions = random_forest.predict(x_val)\n",
    "\n",
    "# summarize the fit of the model\n",
    "print(metrics.classification_report(y_val, predictions))\n",
    "print(metrics.confusion_matrix(y_val, predictions))\n",
    "\n",
    "print('Accuracy: ', metrics.accuracy_score(y_val, predictions))\n",
    "print('Balanced Acc: ', metrics.balanced_accuracy_score(y_val, predictions))\n",
    "\n",
    "# Show the feature importances for the default features\n",
    "feature_importances_sorted = plot_feature_importances(feature_importances)"
   ]
  },
  {
   "cell_type": "markdown",
   "metadata": {},
   "source": [
    "# Trial #5: predicting the Null values"
   ]
  },
  {
   "cell_type": "code",
   "execution_count": 164,
   "metadata": {},
   "outputs": [
    {
     "data": {
      "image/png": "[encoded data removed]",
      "text/plain": [
       "<Figure size 432x288 with 1 Axes>"
      ]
     },
     "metadata": {
      "needs_background": "dark"
     },
     "output_type": "display_data"
    }
   ],
   "source": [
    "df = read_merge()\n",
    "df = fix_dtypes(df, categoricals)\n",
    "\n",
    "\n",
    "feats_fillNA = ['player', 'side', 'bodypart']\n",
    "\n",
    "df_feats = select_feats(df, feats_fillNA)\n",
    "\n",
    "df_feats.dropna(inplace=True)\n",
    "\n",
    "sns.countplot(df_feats.bodypart);\n",
    "\n",
    "# Train-test split\n",
    "training_features = df_feats.drop(columns=['bodypart'])\n",
    "training_target = df_feats.bodypart"
   ]
  },
  {
   "cell_type": "code",
   "execution_count": 165,
   "metadata": {},
   "outputs": [],
   "source": [
    "# One-hot encoding for categorical columns\n",
    "df_feats_fillNA = pd.get_dummies(training_features)"
   ]
  },
  {
   "cell_type": "code",
   "execution_count": 166,
   "metadata": {},
   "outputs": [
    {
     "name": "stdout",
     "output_type": "stream",
     "text": [
      "Number of featurs after one-hot encoding:  6120\n"
     ]
    }
   ],
   "source": [
    "print('Number of featurs after one-hot encoding: ', len(df_feats_fillNA.columns))"
   ]
  },
  {
   "cell_type": "code",
   "execution_count": 168,
   "metadata": {},
   "outputs": [],
   "source": [
    "x_train, x_val, y_train, y_val = train_test_split(df_feats_fillNA, training_target,\n",
    "                                                  test_size = .1,\n",
    "                                                  random_state=12)\n"
   ]
  },
  {
   "cell_type": "code",
   "execution_count": 169,
   "metadata": {},
   "outputs": [
    {
     "data": {
      "text/plain": [
       "(206209, 6120)"
      ]
     },
     "execution_count": 169,
     "metadata": {},
     "output_type": "execute_result"
    }
   ],
   "source": [
    "x_train.shape"
   ]
  },
  {
   "cell_type": "code",
   "execution_count": 170,
   "metadata": {},
   "outputs": [
    {
     "data": {
      "text/plain": [
       "(22913, 6120)"
      ]
     },
     "execution_count": 170,
     "metadata": {},
     "output_type": "execute_result"
    }
   ],
   "source": [
    "x_val.shape"
   ]
  },
  {
   "cell_type": "code",
   "execution_count": 171,
   "metadata": {},
   "outputs": [
    {
     "ename": "MemoryError",
     "evalue": "",
     "output_type": "error",
     "traceback": [
      "\u001b[0;31m---------------------------------------------------------------------------\u001b[0m",
      "\u001b[0;31mMemoryError\u001b[0m                               Traceback (most recent call last)",
      "\u001b[0;32m<ipython-input-171-de8007c4892f>\u001b[0m in \u001b[0;36m<module>\u001b[0;34m\u001b[0m\n\u001b[1;32m      1\u001b[0m \u001b[0mmodel\u001b[0m \u001b[0;34m=\u001b[0m \u001b[0mLogisticRegression\u001b[0m\u001b[0;34m(\u001b[0m\u001b[0;34m)\u001b[0m\u001b[0;34m\u001b[0m\u001b[0;34m\u001b[0m\u001b[0m\n\u001b[0;32m----> 2\u001b[0;31m \u001b[0mmodel\u001b[0m\u001b[0;34m.\u001b[0m\u001b[0mfit\u001b[0m\u001b[0;34m(\u001b[0m\u001b[0mx_train\u001b[0m\u001b[0;34m,\u001b[0m \u001b[0my_train\u001b[0m\u001b[0;34m)\u001b[0m\u001b[0;34m\u001b[0m\u001b[0;34m\u001b[0m\u001b[0m\n\u001b[0m\u001b[1;32m      3\u001b[0m \u001b[0;34m\u001b[0m\u001b[0m\n\u001b[1;32m      4\u001b[0m \u001b[0;31m# make predictions\u001b[0m\u001b[0;34m\u001b[0m\u001b[0;34m\u001b[0m\u001b[0;34m\u001b[0m\u001b[0m\n\u001b[1;32m      5\u001b[0m \u001b[0mexpected\u001b[0m \u001b[0;34m=\u001b[0m \u001b[0my_val\u001b[0m\u001b[0;34m\u001b[0m\u001b[0;34m\u001b[0m\u001b[0m\n",
      "\u001b[0;32m~/anaconda3/envs/ml/lib/python3.6/site-packages/sklearn/linear_model/logistic.py\u001b[0m in \u001b[0;36mfit\u001b[0;34m(self, X, y, sample_weight)\u001b[0m\n\u001b[1;32m   1283\u001b[0m \u001b[0;34m\u001b[0m\u001b[0m\n\u001b[1;32m   1284\u001b[0m         X, y = check_X_y(X, y, accept_sparse='csr', dtype=_dtype, order=\"C\",\n\u001b[0;32m-> 1285\u001b[0;31m                          accept_large_sparse=solver != 'liblinear')\n\u001b[0m\u001b[1;32m   1286\u001b[0m         \u001b[0mcheck_classification_targets\u001b[0m\u001b[0;34m(\u001b[0m\u001b[0my\u001b[0m\u001b[0;34m)\u001b[0m\u001b[0;34m\u001b[0m\u001b[0;34m\u001b[0m\u001b[0m\n\u001b[1;32m   1287\u001b[0m         \u001b[0mself\u001b[0m\u001b[0;34m.\u001b[0m\u001b[0mclasses_\u001b[0m \u001b[0;34m=\u001b[0m \u001b[0mnp\u001b[0m\u001b[0;34m.\u001b[0m\u001b[0munique\u001b[0m\u001b[0;34m(\u001b[0m\u001b[0my\u001b[0m\u001b[0;34m)\u001b[0m\u001b[0;34m\u001b[0m\u001b[0;34m\u001b[0m\u001b[0m\n",
      "\u001b[0;32m~/anaconda3/envs/ml/lib/python3.6/site-packages/sklearn/utils/validation.py\u001b[0m in \u001b[0;36mcheck_X_y\u001b[0;34m(X, y, accept_sparse, accept_large_sparse, dtype, order, copy, force_all_finite, ensure_2d, allow_nd, multi_output, ensure_min_samples, ensure_min_features, y_numeric, warn_on_dtype, estimator)\u001b[0m\n\u001b[1;32m    754\u001b[0m                     \u001b[0mensure_min_features\u001b[0m\u001b[0;34m=\u001b[0m\u001b[0mensure_min_features\u001b[0m\u001b[0;34m,\u001b[0m\u001b[0;34m\u001b[0m\u001b[0;34m\u001b[0m\u001b[0m\n\u001b[1;32m    755\u001b[0m                     \u001b[0mwarn_on_dtype\u001b[0m\u001b[0;34m=\u001b[0m\u001b[0mwarn_on_dtype\u001b[0m\u001b[0;34m,\u001b[0m\u001b[0;34m\u001b[0m\u001b[0;34m\u001b[0m\u001b[0m\n\u001b[0;32m--> 756\u001b[0;31m                     estimator=estimator)\n\u001b[0m\u001b[1;32m    757\u001b[0m     \u001b[0;32mif\u001b[0m \u001b[0mmulti_output\u001b[0m\u001b[0;34m:\u001b[0m\u001b[0;34m\u001b[0m\u001b[0;34m\u001b[0m\u001b[0m\n\u001b[1;32m    758\u001b[0m         y = check_array(y, 'csr', force_all_finite=True, ensure_2d=False,\n",
      "\u001b[0;32m~/anaconda3/envs/ml/lib/python3.6/site-packages/sklearn/utils/validation.py\u001b[0m in \u001b[0;36mcheck_array\u001b[0;34m(array, accept_sparse, accept_large_sparse, dtype, order, copy, force_all_finite, ensure_2d, allow_nd, ensure_min_samples, ensure_min_features, warn_on_dtype, estimator)\u001b[0m\n\u001b[1;32m    525\u001b[0m             \u001b[0;32mtry\u001b[0m\u001b[0;34m:\u001b[0m\u001b[0;34m\u001b[0m\u001b[0;34m\u001b[0m\u001b[0m\n\u001b[1;32m    526\u001b[0m                 \u001b[0mwarnings\u001b[0m\u001b[0;34m.\u001b[0m\u001b[0msimplefilter\u001b[0m\u001b[0;34m(\u001b[0m\u001b[0;34m'error'\u001b[0m\u001b[0;34m,\u001b[0m \u001b[0mComplexWarning\u001b[0m\u001b[0;34m)\u001b[0m\u001b[0;34m\u001b[0m\u001b[0;34m\u001b[0m\u001b[0m\n\u001b[0;32m--> 527\u001b[0;31m                 \u001b[0marray\u001b[0m \u001b[0;34m=\u001b[0m \u001b[0mnp\u001b[0m\u001b[0;34m.\u001b[0m\u001b[0masarray\u001b[0m\u001b[0;34m(\u001b[0m\u001b[0marray\u001b[0m\u001b[0;34m,\u001b[0m \u001b[0mdtype\u001b[0m\u001b[0;34m=\u001b[0m\u001b[0mdtype\u001b[0m\u001b[0;34m,\u001b[0m \u001b[0morder\u001b[0m\u001b[0;34m=\u001b[0m\u001b[0morder\u001b[0m\u001b[0;34m)\u001b[0m\u001b[0;34m\u001b[0m\u001b[0;34m\u001b[0m\u001b[0m\n\u001b[0m\u001b[1;32m    528\u001b[0m             \u001b[0;32mexcept\u001b[0m \u001b[0mComplexWarning\u001b[0m\u001b[0;34m:\u001b[0m\u001b[0;34m\u001b[0m\u001b[0;34m\u001b[0m\u001b[0m\n\u001b[1;32m    529\u001b[0m                 raise ValueError(\"Complex data not supported\\n\"\n",
      "\u001b[0;32m~/anaconda3/envs/ml/lib/python3.6/site-packages/numpy/core/numeric.py\u001b[0m in \u001b[0;36masarray\u001b[0;34m(a, dtype, order)\u001b[0m\n\u001b[1;32m    499\u001b[0m \u001b[0;34m\u001b[0m\u001b[0m\n\u001b[1;32m    500\u001b[0m     \"\"\"\n\u001b[0;32m--> 501\u001b[0;31m     \u001b[0;32mreturn\u001b[0m \u001b[0marray\u001b[0m\u001b[0;34m(\u001b[0m\u001b[0ma\u001b[0m\u001b[0;34m,\u001b[0m \u001b[0mdtype\u001b[0m\u001b[0;34m,\u001b[0m \u001b[0mcopy\u001b[0m\u001b[0;34m=\u001b[0m\u001b[0;32mFalse\u001b[0m\u001b[0;34m,\u001b[0m \u001b[0morder\u001b[0m\u001b[0;34m=\u001b[0m\u001b[0morder\u001b[0m\u001b[0;34m)\u001b[0m\u001b[0;34m\u001b[0m\u001b[0;34m\u001b[0m\u001b[0m\n\u001b[0m\u001b[1;32m    502\u001b[0m \u001b[0;34m\u001b[0m\u001b[0m\n\u001b[1;32m    503\u001b[0m \u001b[0;34m\u001b[0m\u001b[0m\n",
      "\u001b[0;31mMemoryError\u001b[0m: "
     ]
    }
   ],
   "source": [
    "model = LogisticRegression()\n",
    "model.fit(x_train, y_train)\n",
    "\n",
    "# make predictions\n",
    "expected = y_val\n",
    "predicted = model.predict(x_val)\n",
    "\n",
    "\n",
    "# summarize the fit of the model\n",
    "# print(metrics.classification_report(expected, predicted))\n",
    "# print(metrics.confusion_matrix(expected, predicted))\n",
    "\n",
    "print('Accuracy: ', metrics.accuracy_score(expected, predicted))\n",
    "print('Balanced Acc: ', metrics.balanced_accuracy_score(expected, predicted))"
   ]
  },
  {
   "cell_type": "code",
   "execution_count": 208,
   "metadata": {},
   "outputs": [
    {
     "data": {
      "text/plain": [
       "numpy.ndarray"
      ]
     },
     "execution_count": 208,
     "metadata": {},
     "output_type": "execute_result"
    }
   ],
   "source": [
    "X_temp = X_res_u.copy()\n",
    "y_temp = y_res_u.copy()\n",
    "type(X_temp)"
   ]
  },
  {
   "cell_type": "code",
   "execution_count": 210,
   "metadata": {},
   "outputs": [
    {
     "data": {
      "text/plain": [
       "(43952, 52)"
      ]
     },
     "execution_count": 210,
     "metadata": {},
     "output_type": "execute_result"
    }
   ],
   "source": [
    "X_temp.shape"
   ]
  },
  {
   "cell_type": "code",
   "execution_count": 211,
   "metadata": {},
   "outputs": [
    {
     "data": {
      "text/plain": [
       "(43952,)"
      ]
     },
     "execution_count": 211,
     "metadata": {},
     "output_type": "execute_result"
    }
   ],
   "source": [
    "y_temp.shape"
   ]
  },
  {
   "cell_type": "code",
   "execution_count": 213,
   "metadata": {},
   "outputs": [
    {
     "data": {
      "text/plain": [
       "(43952, 53)"
      ]
     },
     "execution_count": 213,
     "metadata": {},
     "output_type": "execute_result"
    }
   ],
   "source": [
    "both = np.hstack((X_temp, y_temp.reshape(-1,1)))\n",
    "both.shape"
   ]
  },
  {
   "cell_type": "code",
   "execution_count": 215,
   "metadata": {},
   "outputs": [
    {
     "data": {
      "text/plain": [
       "['odd_h',\n",
       " 'odd_d',\n",
       " 'odd_a',\n",
       " 'assist_method',\n",
       " 'location',\n",
       " 'side',\n",
       " 'shot_place',\n",
       " 'situation',\n",
       " 'bodypart',\n",
       " 'time',\n",
       " 'is_goal']"
      ]
     },
     "execution_count": 215,
     "metadata": {},
     "output_type": "execute_result"
    }
   ],
   "source": [
    "feat_cols"
   ]
  },
  {
   "cell_type": "code",
   "execution_count": 217,
   "metadata": {},
   "outputs": [],
   "source": [
    "X_temp = pd.DataFrame(data = X_temp, columns=df_feats_dumm.columns)"
   ]
  },
  {
   "cell_type": "markdown",
   "metadata": {},
   "source": [
    "# 2 Odds"
   ]
  },
  {
   "cell_type": "markdown",
   "metadata": {},
   "source": [
    "\n",
    "\n",
    "Odds are interpreted as the amount you will recieve back for every 1£ you bet on that result. For example, if the odds for a home win is 4, you will recieve 4£ for every 1£ you bet on a home win. Thus, from the perspective of the bookmaker, they would set a lower odd for the result they predict. The following function would return the bookmakers' predicted result of a match based on the highest odds for each result for a particular match.\n"
   ]
  },
  {
   "cell_type": "code",
   "execution_count": 220,
   "metadata": {},
   "outputs": [],
   "source": [
    "df_game_info = pd.read_csv(\"../ginf.csv\")"
   ]
  },
  {
   "cell_type": "code",
   "execution_count": 221,
   "metadata": {},
   "outputs": [],
   "source": [
    "def odds_pred_result(odd_h,odd_d,odd_a):\n",
    "    '''\n",
    "    Predict game final result according to the odds for (home win, draw, and )\n",
    "    Predict result of a match based on the highest odds for each result for a particular match\n",
    "    '''\n",
    "    if odd_h<odd_d and odd_h<odd_a:\n",
    "        return(\"Home Win\")\n",
    "    elif odd_d<odd_h and odd_d<odd_a:\n",
    "        return(\"Draw\")\n",
    "    elif odd_a<odd_d and odd_a<odd_h:\n",
    "        return(\"Away Win\")\n",
    "    \n",
    "\n",
    "\n",
    "# The next function would return the actual result of the match.\n",
    "def actual_result(fthg,ftag):\n",
    "    if fthg>ftag:\n",
    "        return(\"Home Win\")\n",
    "    elif fthg==ftag:\n",
    "        return(\"Draw\")\n",
    "    elif fthg<ftag:\n",
    "        return(\"Away Win\")\n",
    "    \n",
    "def actual_result_encode(fthg,ftag):\n",
    "    if fthg>ftag:\n",
    "        return (1)\n",
    "    elif fthg==ftag:\n",
    "        return (2)\n",
    "    elif fthg<ftag:\n",
    "        return (3)"
   ]
  },
  {
   "cell_type": "code",
   "execution_count": 224,
   "metadata": {},
   "outputs": [
    {
     "data": {
      "text/plain": [
       "'0.53% correct'"
      ]
     },
     "execution_count": 224,
     "metadata": {},
     "output_type": "execute_result"
    }
   ],
   "source": [
    "# We now compare the chances of us predicting the result of the game correctly just by looking at the odds.\n",
    "def check_pred(data):\n",
    "    correct=0\n",
    "    wrong=0\n",
    "    for i in range(1,data.shape[0]+1):\n",
    "        odd_h=data[i-1:i][\"odd_h\"].item()\n",
    "        odd_d=data[i-1:i][\"odd_d\"].item()\n",
    "        odd_a=data[i-1:i][\"odd_a\"].item()\n",
    "        fthg=data[i-1:i][\"fthg\"].item()\n",
    "        ftag=data[i-1:i][\"ftag\"].item()\n",
    "        oddsresult=odds_pred_result(odd_h,odd_d,odd_a)\n",
    "        actresult=actual_result(fthg,ftag)\n",
    "        if oddsresult==actresult:\n",
    "            correct+=1\n",
    "        else:\n",
    "            wrong+=1\n",
    "    return(str(\"%.2f\"%(correct/(correct+wrong)))+str(\"% correct\"))\n",
    "\n",
    "check_pred(df_game_info)"
   ]
  },
  {
   "cell_type": "markdown",
   "metadata": {},
   "source": [
    "## We will try to use the odds and the difference among the odds to predict the result of a match.\n"
   ]
  },
  {
   "cell_type": "code",
   "execution_count": 242,
   "metadata": {
    "scrolled": true
   },
   "outputs": [
    {
     "data": {
      "text/html": [
       "<div>\n",
       "<style scoped>\n",
       "    .dataframe tbody tr th:only-of-type {\n",
       "        vertical-align: middle;\n",
       "    }\n",
       "\n",
       "    .dataframe tbody tr th {\n",
       "        vertical-align: top;\n",
       "    }\n",
       "\n",
       "    .dataframe thead th {\n",
       "        text-align: right;\n",
       "    }\n",
       "</style>\n",
       "<table border=\"1\" class=\"dataframe\">\n",
       "  <thead>\n",
       "    <tr style=\"text-align: right;\">\n",
       "      <th></th>\n",
       "      <th>0</th>\n",
       "    </tr>\n",
       "  </thead>\n",
       "  <tbody>\n",
       "    <tr>\n",
       "      <th>10107</th>\n",
       "      <td>2</td>\n",
       "    </tr>\n",
       "    <tr>\n",
       "      <th>10108</th>\n",
       "      <td>1</td>\n",
       "    </tr>\n",
       "    <tr>\n",
       "      <th>10109</th>\n",
       "      <td>1</td>\n",
       "    </tr>\n",
       "    <tr>\n",
       "      <th>10110</th>\n",
       "      <td>2</td>\n",
       "    </tr>\n",
       "    <tr>\n",
       "      <th>10111</th>\n",
       "      <td>1</td>\n",
       "    </tr>\n",
       "  </tbody>\n",
       "</table>\n",
       "</div>"
      ],
      "text/plain": [
       "       0\n",
       "10107  2\n",
       "10108  1\n",
       "10109  1\n",
       "10110  2\n",
       "10111  1"
      ]
     },
     "execution_count": 242,
     "metadata": {},
     "output_type": "execute_result"
    }
   ],
   "source": [
    "x_odds = df_game_info.iloc[:,9:14]\n",
    "x_odds.head()\n",
    "\n",
    "result=[]\n",
    "for i in range(1, df_game_info.shape[0]+1):\n",
    "    result.append(actual_result_encode(df_game_info[i-1:i][\"fthg\"].item(),\n",
    "                                       df_game_info[i-1:i][\"ftag\"].item()))\n",
    "y_result = pd.DataFrame(result)\n",
    "\n",
    "x_odds[\"diff_h_d\"] = abs(x_odds[\"odd_h\"] - x_odds[\"odd_d\"])\n",
    "x_odds[\"diff_d_a\"] = abs(x_odds[\"odd_d\"] - x_odds[\"odd_a\"])\n",
    "x_odds[\"diff_h_a\"] = abs(x_odds[\"odd_h\"] - x_odds[\"odd_a\"])\n",
    "x_odds = x_odds.drop([\"fthg\",\"ftag\"],axis=1)\n",
    "\n",
    "x_odds.tail()\n",
    "y_result.tail()"
   ]
  },
  {
   "cell_type": "code",
   "execution_count": 254,
   "metadata": {},
   "outputs": [
    {
     "data": {
      "image/png": "[encoded data removed]",
      "text/plain": [
       "<Figure size 432x288 with 1 Axes>"
      ]
     },
     "metadata": {
      "needs_background": "dark"
     },
     "output_type": "display_data"
    }
   ],
   "source": [
    "from sklearn.pipeline import make_pipeline\n",
    "from sklearn.ensemble import RandomForestClassifier\n",
    "from sklearn.feature_selection import SelectKBest\n",
    "from sklearn.ensemble.gradient_boosting import GradientBoostingClassifier\n",
    "from sklearn.linear_model import LogisticRegression\n",
    "from sklearn import svm\n",
    "from sklearn.svm import SVC, LinearSVC\n",
    "from sklearn.neighbors import KNeighborsClassifier\n",
    "from sklearn.tree import DecisionTreeClassifier\n",
    "from sklearn.naive_bayes import MultinomialNB\n",
    "from sklearn.feature_selection import SelectFromModel\n",
    "from sklearn.model_selection import KFold\n",
    "from sklearn.model_selection import cross_val_score\n",
    "\n",
    "sns.countplot(y_result.iloc[:,0]);"
   ]
  },
  {
   "cell_type": "code",
   "execution_count": 255,
   "metadata": {},
   "outputs": [
    {
     "name": "stdout",
     "output_type": "stream",
     "text": [
      "              precision    recall  f1-score   support\n",
      "\n",
      "           1       0.54      0.89      0.67       925\n",
      "           2       0.00      0.00      0.00       519\n",
      "           3       0.56      0.50      0.53       579\n",
      "\n",
      "   micro avg       0.55      0.55      0.55      2023\n",
      "   macro avg       0.37      0.46      0.40      2023\n",
      "weighted avg       0.41      0.55      0.46      2023\n",
      "\n",
      "[[820   0 105]\n",
      " [396   0 123]\n",
      " [289   0 290]]\n",
      "Accuracy:  0.5486900642609985\n",
      "Balanced Acc:  0.462450014781621\n"
     ]
    }
   ],
   "source": [
    "x_odds_train, x_odds_test, y_odds_train, y_odds_test = train_test_split(x_odds, y_result, test_size=0.2,random_state=0)\n",
    "\n",
    "# Logistic regression\n",
    "\n",
    "from sklearn import metrics\n",
    "from sklearn.linear_model import LogisticRegression\n",
    "\n",
    "model = LogisticRegression()\n",
    "model.fit(x_odds_train, y_odds_train)\n",
    "\n",
    "# make predictions\n",
    "expected = y_odds_test\n",
    "predicted = model.predict(x_odds_test)\n",
    "\n",
    "# summarize the fit of the model\n",
    "print(metrics.classification_report(expected, predicted))\n",
    "print(metrics.confusion_matrix(expected, predicted))\n",
    "\n",
    "print('Accuracy: ', metrics.accuracy_score(expected, predicted))\n",
    "print('Balanced Acc: ', metrics.balanced_accuracy_score(expected, predicted))"
   ]
  },
  {
   "cell_type": "code",
   "execution_count": null,
   "metadata": {},
   "outputs": [],
   "source": []
  }
 ],
 "metadata": {
  "kernelspec": {
   "display_name": "Python (ml)",
   "language": "python",
   "name": "ml"
  },
  "language_info": {
   "codemirror_mode": {
    "name": "ipython",
    "version": 3
   },
   "file_extension": ".py",
   "mimetype": "text/x-python",
   "name": "python",
   "nbconvert_exporter": "python",
   "pygments_lexer": "ipython3",
   "version": "3.6.7"
  }
 },
 "nbformat": 4,
 "nbformat_minor": 2
}
