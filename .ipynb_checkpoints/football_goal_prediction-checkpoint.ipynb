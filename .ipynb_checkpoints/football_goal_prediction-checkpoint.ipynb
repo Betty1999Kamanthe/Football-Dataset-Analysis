{
 "cells": [
  {
   "cell_type": "markdown",
   "metadata": {},
   "source": [
    "# Football Events and Game Information"
   ]
  },
  {
   "cell_type": "markdown",
   "metadata": {},
   "source": [
    "imports and initialization"
   ]
  },
  {
   "cell_type": "code",
   "execution_count": 1,
   "metadata": {},
   "outputs": [],
   "source": [
    "import zipfile\n",
    "%matplotlib inline \n",
    "import numpy as np \n",
    "import scipy as sp \n",
    "import matplotlib as mpl\n",
    "import matplotlib.cm as cm \n",
    "import matplotlib.pyplot as plt\n",
    "import pandas as pd \n",
    "pd.set_option('display.width', 500)\n",
    "pd.set_option('display.max_columns', 100)\n",
    "pd.set_option('display.notebook_repr_html', True)\n",
    "import seaborn as sns\n",
    "sns.set(style=\"whitegrid\")\n",
    "import warnings\n",
    "warnings.filterwarnings('ignore')"
   ]
  },
  {
   "cell_type": "code",
   "execution_count": 2,
   "metadata": {},
   "outputs": [],
   "source": [
    "plt.style.use(['dark_background', 'bmh'])\n",
    "plt.rc('axes', facecolor='k')\n",
    "plt.rc('figure', facecolor='k')\n",
    "plt.rc('figure', figsize=(5,5))"
   ]
  },
  {
   "cell_type": "markdown",
   "metadata": {},
   "source": [
    "## Cleaning Data"
   ]
  },
  {
   "cell_type": "code",
   "execution_count": 3,
   "metadata": {},
   "outputs": [],
   "source": [
    "df_events = pd.read_csv(\"events.csv\")\n",
    "df_game_info = pd.read_csv(\"ginf.csv\")"
   ]
  },
  {
   "cell_type": "code",
   "execution_count": 4,
   "metadata": {},
   "outputs": [],
   "source": [
    "# understand the values of some columns in events df\n",
    "encoding = pd.read_table('dictionary.txt', delim_whitespace=False, names=('num','events'))\n",
    "event_type=encoding[1:13]\n",
    "event_type_2=encoding[14:18]\n",
    "side=encoding[19:21]\n",
    "shot_place=encoding[22:35]\n",
    "shot_outcome=encoding[36:40]\n",
    "location=encoding[41:60]\n",
    "bodypart=encoding[61:64]\n",
    "assist_method=encoding[65:70]\n",
    "situition=encoding[71:75]"
   ]
  },
  {
   "cell_type": "code",
   "execution_count": 6,
   "metadata": {},
   "outputs": [],
   "source": [
    "# manually convert the dictionary.txt to python dicts\n",
    "event_types = {1:'Attempt', 2:'Corner', 3:'Foul', 4:'Yellow card', 5:'Second yellow card', 6:'Red card', 7:'Substitution', 8:'Free kick won', 9:'Offside', 10:'Hand ball', 11:'Penalty conceded'}\n",
    "event_types2 = {12:'Key Pass', 13:'Failed through ball', 14:'Sending off', 15:'Own goal'}\n",
    "sides = {1:'Home', 2:'Away'}\n",
    "shot_places = {1:'Bit too high', 2:'Blocked', 3:'Bottom left corner', 4:'Bottom right corner', 5:'Centre of the goal', 6:'High and wide', 7:'Hits the bar', 8:'Misses to the left', 9:'Misses to the right', 10:'Too high', 11:'Top centre of the goal', 12:'Top left corner', 13:'Top right corner'}\n",
    "shot_outcomes = {1:'On target', 2:'Off target', 3:'Blocked', 4:'Hit the bar'}\n",
    "locations = {1:'Attacking half', 2:'Defensive half', 3:'Centre of the box', 4:'Left wing', 5:'Right wing', 6:'Difficult angle and long range', 7:'Difficult angle on the left', 8:'Difficult angle on the right', 9:'Left side of the box', 10:'Left side of the six yard box', 11:'Right side of the box', 12:'Right side of the six yard box', 13:'Very close range', 14:'Penalty spot', 15:'Outside the box', 16:'Long range', 17:'More than 35 yards', 18:'More than 40 yards', 19:'Not recorded'}\n",
    "bodyparts = {1:'right foot', 2:'left foot', 3:'head'}\n",
    "assist_methods = {0:np.nan, 1:'Pass', 2:'Cross', 3:'Headed pass', 4:'Through ball'}\n",
    "situations = {1:'Open play', 2:'Set piece', 3:'Corner', 4:'Free kick'}"
   ]
  },
  {
   "cell_type": "code",
   "execution_count": 7,
   "metadata": {},
   "outputs": [],
   "source": [
    "# Mapping the dicts into the events dataframe\n",
    "df_events['event_type'] =   df_events['event_type'].map(event_types)\n",
    "df_events['event_type2'] =  df_events['event_type2'].map(event_types2)\n",
    "df_events['side'] =         df_events['side'].map(sides)\n",
    "df_events['shot_place'] =   df_events['shot_place'].map(shot_places)\n",
    "df_events['shot_outcome']=  df_events['shot_outcome'].map(shot_outcomes)\n",
    "df_events['location'] =     df_events['location'].map(locations)\n",
    "df_events['bodypart'] =     df_events['bodypart'].map(bodyparts)\n",
    "df_events['assist_method']= df_events['assist_method'].map(assist_methods)\n",
    "df_events['situation'] =    df_events['situation'].map(situations)"
   ]
  },
  {
   "cell_type": "code",
   "execution_count": 8,
   "metadata": {},
   "outputs": [],
   "source": [
    "## Naming the leagues with their popular names, which will make thinks much clear for us\n",
    "leagues = {'E0': 'Premier League', 'SP1': 'La Liga',\n",
    "          'I1': 'Serie A', 'F1': 'League One', 'D1': 'Bundesliga'}\n",
    "\n",
    "## Map them to events\n",
    "df_game_info.league = df_game_info.league.map(leagues)"
   ]
  },
  {
   "cell_type": "code",
   "execution_count": 9,
   "metadata": {},
   "outputs": [
    {
     "name": "stdout",
     "output_type": "stream",
     "text": [
      "<class 'pandas.core.frame.DataFrame'>\n",
      "RangeIndex: 10112 entries, 0 to 10111\n",
      "Data columns (total 18 columns):\n",
      "id_odsp      10112 non-null object\n",
      "link_odsp    10112 non-null object\n",
      "adv_stats    10112 non-null bool\n",
      "date         10112 non-null object\n",
      "league       10112 non-null object\n",
      "season       10112 non-null int64\n",
      "country      10112 non-null object\n",
      "ht           10112 non-null object\n",
      "at           10112 non-null object\n",
      "fthg         10112 non-null int64\n",
      "ftag         10112 non-null int64\n",
      "odd_h        10112 non-null float64\n",
      "odd_d        10112 non-null float64\n",
      "odd_a        10112 non-null float64\n",
      "odd_over     977 non-null float64\n",
      "odd_under    977 non-null float64\n",
      "odd_bts      977 non-null float64\n",
      "odd_bts_n    977 non-null float64\n",
      "dtypes: bool(1), float64(7), int64(3), object(7)\n",
      "memory usage: 1.3+ MB\n"
     ]
    }
   ],
   "source": [
    "df_game_info.info()"
   ]
  },
  {
   "cell_type": "markdown",
   "metadata": {},
   "source": [
    "# Data Pre-processing"
   ]
  },
  {
   "cell_type": "markdown",
   "metadata": {},
   "source": [
    "## Make it in One Table"
   ]
  },
  {
   "cell_type": "code",
   "execution_count": 10,
   "metadata": {},
   "outputs": [],
   "source": [
    "# Merge other dataset to have country, league, date and season\n",
    "df_events = df_events.merge(df_game_info ,how = 'left')"
   ]
  },
  {
   "cell_type": "markdown",
   "metadata": {},
   "source": [
    "## Handling Missing Values"
   ]
  },
  {
   "cell_type": "code",
   "execution_count": 11,
   "metadata": {},
   "outputs": [],
   "source": [
    "# Function to calculate missing values by column# Funct \n",
    "def missing_values_table(df):\n",
    "        # Total missing values\n",
    "        mis_val = df.isnull().sum()\n",
    "        \n",
    "        # Percentage of missing values\n",
    "        mis_val_percent = 100 * df.isnull().sum() / len(df)\n",
    "        \n",
    "        # Make a table with the results\n",
    "        mis_val_table = pd.concat([mis_val, mis_val_percent], axis=1)\n",
    "        \n",
    "        # Rename the columns\n",
    "        mis_val_table_ren_columns = mis_val_table.rename(\n",
    "        columns = {0 : 'Missing Values', 1 : '% of Total Values'})\n",
    "        \n",
    "        # Sort the table by percentage of missing descending\n",
    "        mis_val_table_ren_columns = mis_val_table_ren_columns[\n",
    "            mis_val_table_ren_columns.iloc[:,1] != 0].sort_values(\n",
    "        '% of Total Values', ascending=False).round(1)\n",
    "        \n",
    "        # Print some summary information\n",
    "        print (\"Your selected dataframe has \" + str(df.shape[1]) + \" columns.\\n\"      \n",
    "            \"There are \" + str(mis_val_table_ren_columns.shape[0]) +\n",
    "              \" columns that have missing values.\")\n",
    "        \n",
    "        # Return the dataframe with missing information\n",
    "        return mis_val_table_ren_columns"
   ]
  },
  {
   "cell_type": "code",
   "execution_count": 12,
   "metadata": {},
   "outputs": [],
   "source": [
    "# # Drop all the null values (remove 70% of the data)\n",
    "# data_df.dropna(inplace=True)\n",
    "# data_df.info()"
   ]
  },
  {
   "cell_type": "code",
   "execution_count": 13,
   "metadata": {},
   "outputs": [
    {
     "name": "stdout",
     "output_type": "stream",
     "text": [
      "Your selected dataframe has 39 columns.\n",
      "There are 15 columns that have missing values.\n"
     ]
    },
    {
     "data": {
      "text/html": [
       "<div>\n",
       "<style scoped>\n",
       "    .dataframe tbody tr th:only-of-type {\n",
       "        vertical-align: middle;\n",
       "    }\n",
       "\n",
       "    .dataframe tbody tr th {\n",
       "        vertical-align: top;\n",
       "    }\n",
       "\n",
       "    .dataframe thead th {\n",
       "        text-align: right;\n",
       "    }\n",
       "</style>\n",
       "<table border=\"1\" class=\"dataframe\">\n",
       "  <thead>\n",
       "    <tr style=\"text-align: right;\">\n",
       "      <th></th>\n",
       "      <th>Missing Values</th>\n",
       "      <th>% of Total Values</th>\n",
       "    </tr>\n",
       "  </thead>\n",
       "  <tbody>\n",
       "    <tr>\n",
       "      <th>player_in</th>\n",
       "      <td>889294</td>\n",
       "      <td>94.5</td>\n",
       "    </tr>\n",
       "    <tr>\n",
       "      <th>player_out</th>\n",
       "      <td>889271</td>\n",
       "      <td>94.5</td>\n",
       "    </tr>\n",
       "    <tr>\n",
       "      <th>odd_over</th>\n",
       "      <td>842329</td>\n",
       "      <td>89.5</td>\n",
       "    </tr>\n",
       "    <tr>\n",
       "      <th>odd_under</th>\n",
       "      <td>842329</td>\n",
       "      <td>89.5</td>\n",
       "    </tr>\n",
       "    <tr>\n",
       "      <th>odd_bts</th>\n",
       "      <td>842329</td>\n",
       "      <td>89.5</td>\n",
       "    </tr>\n",
       "    <tr>\n",
       "      <th>odd_bts_n</th>\n",
       "      <td>842329</td>\n",
       "      <td>89.5</td>\n",
       "    </tr>\n",
       "    <tr>\n",
       "      <th>assist_method</th>\n",
       "      <td>773104</td>\n",
       "      <td>82.2</td>\n",
       "    </tr>\n",
       "    <tr>\n",
       "      <th>event_type2</th>\n",
       "      <td>726716</td>\n",
       "      <td>77.2</td>\n",
       "    </tr>\n",
       "    <tr>\n",
       "      <th>shot_place</th>\n",
       "      <td>713550</td>\n",
       "      <td>75.8</td>\n",
       "    </tr>\n",
       "    <tr>\n",
       "      <th>shot_outcome</th>\n",
       "      <td>712511</td>\n",
       "      <td>75.7</td>\n",
       "    </tr>\n",
       "    <tr>\n",
       "      <th>situation</th>\n",
       "      <td>711872</td>\n",
       "      <td>75.6</td>\n",
       "    </tr>\n",
       "    <tr>\n",
       "      <th>bodypart</th>\n",
       "      <td>711824</td>\n",
       "      <td>75.6</td>\n",
       "    </tr>\n",
       "    <tr>\n",
       "      <th>player2</th>\n",
       "      <td>649699</td>\n",
       "      <td>69.0</td>\n",
       "    </tr>\n",
       "    <tr>\n",
       "      <th>location</th>\n",
       "      <td>473942</td>\n",
       "      <td>50.4</td>\n",
       "    </tr>\n",
       "    <tr>\n",
       "      <th>player</th>\n",
       "      <td>61000</td>\n",
       "      <td>6.5</td>\n",
       "    </tr>\n",
       "  </tbody>\n",
       "</table>\n",
       "</div>"
      ],
      "text/plain": [
       "               Missing Values  % of Total Values\n",
       "player_in              889294               94.5\n",
       "player_out             889271               94.5\n",
       "odd_over               842329               89.5\n",
       "odd_under              842329               89.5\n",
       "odd_bts                842329               89.5\n",
       "odd_bts_n              842329               89.5\n",
       "assist_method          773104               82.2\n",
       "event_type2            726716               77.2\n",
       "shot_place             713550               75.8\n",
       "shot_outcome           712511               75.7\n",
       "situation              711872               75.6\n",
       "bodypart               711824               75.6\n",
       "player2                649699               69.0\n",
       "location               473942               50.4\n",
       "player                  61000                6.5"
      ]
     },
     "execution_count": 13,
     "metadata": {},
     "output_type": "execute_result"
    }
   ],
   "source": [
    "missing_values_table(df_events)"
   ]
  },
  {
   "cell_type": "code",
   "execution_count": 14,
   "metadata": {},
   "outputs": [],
   "source": [
    "# Fill the required features with new class 'unknown'\n",
    "df_events.shot_place.fillna('UNK', inplace= True)\n",
    "df_events.player.fillna('UNK', inplace= True)\n",
    "df_events.shot_outcome.fillna('UNK', inplace= True)\n",
    "df_events.bodypart.fillna('UNK', inplace= True)\n",
    "df_events.location.fillna('UNK', inplace= True)\n",
    "df_events.assist_method.fillna('UNK', inplace= True);"
   ]
  },
  {
   "cell_type": "code",
   "execution_count": 15,
   "metadata": {},
   "outputs": [
    {
     "name": "stdout",
     "output_type": "stream",
     "text": [
      "<class 'pandas.core.frame.DataFrame'>\n",
      "Int64Index: 941009 entries, 0 to 941008\n",
      "Data columns (total 39 columns):\n",
      "id_odsp          941009 non-null object\n",
      "id_event         941009 non-null object\n",
      "sort_order       941009 non-null int64\n",
      "time             941009 non-null int64\n",
      "text             941009 non-null object\n",
      "event_type       941009 non-null object\n",
      "event_type2      214293 non-null object\n",
      "side             941009 non-null object\n",
      "event_team       941009 non-null object\n",
      "opponent         941009 non-null object\n",
      "player           941009 non-null object\n",
      "player2          291310 non-null object\n",
      "player_in        51715 non-null object\n",
      "player_out       51738 non-null object\n",
      "shot_place       941009 non-null object\n",
      "shot_outcome     941009 non-null object\n",
      "is_goal          941009 non-null int64\n",
      "location         941009 non-null object\n",
      "bodypart         941009 non-null object\n",
      "assist_method    941009 non-null object\n",
      "situation        229137 non-null object\n",
      "fast_break       941009 non-null int64\n",
      "link_odsp        941009 non-null object\n",
      "adv_stats        941009 non-null bool\n",
      "date             941009 non-null object\n",
      "league           941009 non-null object\n",
      "season           941009 non-null int64\n",
      "country          941009 non-null object\n",
      "ht               941009 non-null object\n",
      "at               941009 non-null object\n",
      "fthg             941009 non-null int64\n",
      "ftag             941009 non-null int64\n",
      "odd_h            941009 non-null float64\n",
      "odd_d            941009 non-null float64\n",
      "odd_a            941009 non-null float64\n",
      "odd_over         98680 non-null float64\n",
      "odd_under        98680 non-null float64\n",
      "odd_bts          98680 non-null float64\n",
      "odd_bts_n        98680 non-null float64\n",
      "dtypes: bool(1), float64(7), int64(7), object(24)\n",
      "memory usage: 280.9+ MB\n"
     ]
    }
   ],
   "source": [
    "df_events.info()"
   ]
  },
  {
   "cell_type": "code",
   "execution_count": 16,
   "metadata": {},
   "outputs": [],
   "source": [
    "# Notice that a lot of the floats and ints are in fact categoricals\n",
    "# We can fix this with Pandas' astype function\n",
    "categoricals = ['id_odsp', 'event_type', 'event_team', 'opponent', 'shot_place', 'shot_outcome', 'location', 'bodypart', 'assist_method', 'situation', 'side']\n",
    "d = dict.fromkeys(categoricals,'category')\n",
    "df_events = df_events.astype(d)\n",
    "df_events['is_goal'] = df_events['is_goal'].astype('bool') # this is a bool, we can fix that too while we're at it\n",
    "df_game_info.season = df_game_info.season.astype('category')\n",
    "df_game_info.league = df_game_info.league.astype('category')\n",
    "df_game_info.country = df_game_info.country.astype('category')"
   ]
  },
  {
   "cell_type": "code",
   "execution_count": null,
   "metadata": {},
   "outputs": [],
   "source": [
    "df_game_info.season = df_game_info.season.astype('category')\n",
    "df_game_info.league = df_game_info.league.astype('category')\n",
    "df_game_info.country = df_game_info.country.astype('category')"
   ]
  },
  {
   "cell_type": "code",
   "execution_count": 17,
   "metadata": {},
   "outputs": [
    {
     "name": "stdout",
     "output_type": "stream",
     "text": [
      "<class 'pandas.core.frame.DataFrame'>\n",
      "Int64Index: 941009 entries, 0 to 941008\n",
      "Data columns (total 39 columns):\n",
      "id_odsp          941009 non-null category\n",
      "id_event         941009 non-null object\n",
      "sort_order       941009 non-null int64\n",
      "time             941009 non-null int64\n",
      "text             941009 non-null object\n",
      "event_type       941009 non-null category\n",
      "event_type2      214293 non-null object\n",
      "side             941009 non-null category\n",
      "event_team       941009 non-null category\n",
      "opponent         941009 non-null category\n",
      "player           941009 non-null object\n",
      "player2          291310 non-null object\n",
      "player_in        51715 non-null object\n",
      "player_out       51738 non-null object\n",
      "shot_place       941009 non-null category\n",
      "shot_outcome     941009 non-null category\n",
      "is_goal          941009 non-null bool\n",
      "location         941009 non-null category\n",
      "bodypart         941009 non-null category\n",
      "assist_method    941009 non-null category\n",
      "situation        229137 non-null category\n",
      "fast_break       941009 non-null int64\n",
      "link_odsp        941009 non-null object\n",
      "adv_stats        941009 non-null bool\n",
      "date             941009 non-null object\n",
      "league           941009 non-null object\n",
      "season           941009 non-null int64\n",
      "country          941009 non-null object\n",
      "ht               941009 non-null object\n",
      "at               941009 non-null object\n",
      "fthg             941009 non-null int64\n",
      "ftag             941009 non-null int64\n",
      "odd_h            941009 non-null float64\n",
      "odd_d            941009 non-null float64\n",
      "odd_a            941009 non-null float64\n",
      "odd_over         98680 non-null float64\n",
      "odd_under        98680 non-null float64\n",
      "odd_bts          98680 non-null float64\n",
      "odd_bts_n        98680 non-null float64\n",
      "dtypes: bool(2), category(11), float64(7), int64(6), object(13)\n",
      "memory usage: 208.6+ MB\n"
     ]
    }
   ],
   "source": [
    "df_events.info()"
   ]
  },
  {
   "cell_type": "markdown",
   "metadata": {},
   "source": [
    "# Question #1 to answer\n",
    "What is the value of a shot? Or what is the probability of a shot being a goal given its location, shooter, league, assist method, gamestate, number of players on the pitch, time - known as expected goals (xG) models [Binary classification, Sara ]\n"
   ]
  },
  {
   "cell_type": "code",
   "execution_count": 18,
   "metadata": {},
   "outputs": [],
   "source": [
    "# manually chosen features\n",
    "feat_cols = ['odd_h', 'odd_d', 'odd_a', 'assist_method', 'location', 'side', 'event_team', 'shot_place', 'shot_outcome', 'bodypart', 'is_goal']\n",
    "df_data = df_events[feat_cols]"
   ]
  },
  {
   "cell_type": "code",
   "execution_count": 19,
   "metadata": {},
   "outputs": [
    {
     "name": "stdout",
     "output_type": "stream",
     "text": [
      "<class 'pandas.core.frame.DataFrame'>\n",
      "Int64Index: 941009 entries, 0 to 941008\n",
      "Data columns (total 11 columns):\n",
      "odd_h            941009 non-null float64\n",
      "odd_d            941009 non-null float64\n",
      "odd_a            941009 non-null float64\n",
      "assist_method    941009 non-null category\n",
      "location         941009 non-null category\n",
      "side             941009 non-null category\n",
      "event_team       941009 non-null category\n",
      "shot_place       941009 non-null category\n",
      "shot_outcome     941009 non-null category\n",
      "bodypart         941009 non-null category\n",
      "is_goal          941009 non-null bool\n",
      "dtypes: bool(1), category(7), float64(3)\n",
      "memory usage: 36.8 MB\n"
     ]
    }
   ],
   "source": [
    "df_data.info()"
   ]
  },
  {
   "cell_type": "code",
   "execution_count": 20,
   "metadata": {},
   "outputs": [
    {
     "name": "stdout",
     "output_type": "stream",
     "text": [
      "Your selected dataframe has 11 columns.\n",
      "There are 0 columns that have missing values.\n"
     ]
    },
    {
     "data": {
      "text/html": [
       "<div>\n",
       "<style scoped>\n",
       "    .dataframe tbody tr th:only-of-type {\n",
       "        vertical-align: middle;\n",
       "    }\n",
       "\n",
       "    .dataframe tbody tr th {\n",
       "        vertical-align: top;\n",
       "    }\n",
       "\n",
       "    .dataframe thead th {\n",
       "        text-align: right;\n",
       "    }\n",
       "</style>\n",
       "<table border=\"1\" class=\"dataframe\">\n",
       "  <thead>\n",
       "    <tr style=\"text-align: right;\">\n",
       "      <th></th>\n",
       "      <th>Missing Values</th>\n",
       "      <th>% of Total Values</th>\n",
       "    </tr>\n",
       "  </thead>\n",
       "  <tbody>\n",
       "  </tbody>\n",
       "</table>\n",
       "</div>"
      ],
      "text/plain": [
       "Empty DataFrame\n",
       "Columns: [Missing Values, % of Total Values]\n",
       "Index: []"
      ]
     },
     "execution_count": 20,
     "metadata": {},
     "output_type": "execute_result"
    }
   ],
   "source": [
    "missing_values_table(df_data)"
   ]
  },
  {
   "cell_type": "markdown",
   "metadata": {},
   "source": [
    "## Handling imbalance classes"
   ]
  },
  {
   "cell_type": "code",
   "execution_count": 21,
   "metadata": {
    "scrolled": true
   },
   "outputs": [
    {
     "data": {
      "image/png": "[encoded data removed]",
      "text/plain": [
       "<Figure size 360x360 with 1 Axes>"
      ]
     },
     "metadata": {},
     "output_type": "display_data"
    }
   ],
   "source": [
    "# distribution of the response variable\n",
    "df_data.is_goal.astype('int').hist();"
   ]
  },
  {
   "cell_type": "code",
   "execution_count": 22,
   "metadata": {},
   "outputs": [],
   "source": [
    "from sklearn.model_selection import train_test_split"
   ]
  },
  {
   "cell_type": "code",
   "execution_count": 23,
   "metadata": {},
   "outputs": [],
   "source": [
    "training_features = df_data.drop(columns=['is_goal'])\n",
    "training_target = df_data.is_goal"
   ]
  },
  {
   "cell_type": "markdown",
   "metadata": {},
   "source": [
    "we have class imbalance, we will use evaluation metrics different from accuracy which include (True positive, True negative, False positive, False negative)"
   ]
  },
  {
   "cell_type": "code",
   "execution_count": 24,
   "metadata": {},
   "outputs": [],
   "source": [
    "# One-hot encoding for categorical columns\n",
    "df_feats_dumm = pd.get_dummies(training_features)"
   ]
  },
  {
   "cell_type": "code",
   "execution_count": 25,
   "metadata": {},
   "outputs": [
    {
     "data": {
      "text/html": [
       "<div>\n",
       "<style scoped>\n",
       "    .dataframe tbody tr th:only-of-type {\n",
       "        vertical-align: middle;\n",
       "    }\n",
       "\n",
       "    .dataframe tbody tr th {\n",
       "        vertical-align: top;\n",
       "    }\n",
       "\n",
       "    .dataframe thead th {\n",
       "        text-align: right;\n",
       "    }\n",
       "</style>\n",
       "<table border=\"1\" class=\"dataframe\">\n",
       "  <thead>\n",
       "    <tr style=\"text-align: right;\">\n",
       "      <th></th>\n",
       "      <th>odd_h</th>\n",
       "      <th>odd_d</th>\n",
       "      <th>odd_a</th>\n",
       "      <th>assist_method_Cross</th>\n",
       "      <th>assist_method_Headed pass</th>\n",
       "      <th>assist_method_Pass</th>\n",
       "      <th>assist_method_Through ball</th>\n",
       "      <th>assist_method_UNK</th>\n",
       "      <th>location_Attacking half</th>\n",
       "      <th>location_Centre of the box</th>\n",
       "      <th>location_Defensive half</th>\n",
       "      <th>location_Difficult angle and long range</th>\n",
       "      <th>location_Difficult angle on the left</th>\n",
       "      <th>location_Difficult angle on the right</th>\n",
       "      <th>location_Left side of the box</th>\n",
       "      <th>location_Left side of the six yard box</th>\n",
       "      <th>location_Left wing</th>\n",
       "      <th>location_Long range</th>\n",
       "      <th>location_More than 35 yards</th>\n",
       "      <th>location_More than 40 yards</th>\n",
       "      <th>location_Not recorded</th>\n",
       "      <th>location_Outside the box</th>\n",
       "      <th>location_Penalty spot</th>\n",
       "      <th>location_Right side of the box</th>\n",
       "      <th>location_Right side of the six yard box</th>\n",
       "      <th>location_Right wing</th>\n",
       "      <th>location_UNK</th>\n",
       "      <th>location_Very close range</th>\n",
       "      <th>side_Away</th>\n",
       "      <th>side_Home</th>\n",
       "      <th>event_team_AC Ajaccio</th>\n",
       "      <th>event_team_AC Milan</th>\n",
       "      <th>event_team_AJ Auxerre</th>\n",
       "      <th>event_team_AS Monaco</th>\n",
       "      <th>event_team_AS Nancy Lorraine</th>\n",
       "      <th>event_team_AS Roma</th>\n",
       "      <th>event_team_Alaves</th>\n",
       "      <th>event_team_Almeria</th>\n",
       "      <th>event_team_Angers</th>\n",
       "      <th>event_team_Arsenal</th>\n",
       "      <th>event_team_Aston Villa</th>\n",
       "      <th>event_team_Atalanta</th>\n",
       "      <th>event_team_Athletic Bilbao</th>\n",
       "      <th>event_team_Atletico Madrid</th>\n",
       "      <th>event_team_Barcelona</th>\n",
       "      <th>event_team_Bastia</th>\n",
       "      <th>event_team_Bayer Leverkusen</th>\n",
       "      <th>event_team_Bayern Munich</th>\n",
       "      <th>event_team_Bologna</th>\n",
       "      <th>event_team_Bordeaux</th>\n",
       "      <th>...</th>\n",
       "      <th>event_team_Sochaux</th>\n",
       "      <th>event_team_Southampton</th>\n",
       "      <th>event_team_SpVgg Greuther Furth</th>\n",
       "      <th>event_team_Sporting Gijon</th>\n",
       "      <th>event_team_St Etienne</th>\n",
       "      <th>event_team_Stade Rennes</th>\n",
       "      <th>event_team_Stade de Reims</th>\n",
       "      <th>event_team_Stoke City</th>\n",
       "      <th>event_team_Sunderland</th>\n",
       "      <th>event_team_Swansea</th>\n",
       "      <th>event_team_TSG Hoffenheim</th>\n",
       "      <th>event_team_TSV Eintracht Braunschweig</th>\n",
       "      <th>event_team_Torino</th>\n",
       "      <th>event_team_Tottenham</th>\n",
       "      <th>event_team_Toulouse</th>\n",
       "      <th>event_team_Troyes</th>\n",
       "      <th>event_team_US Pescara</th>\n",
       "      <th>event_team_Udinese</th>\n",
       "      <th>event_team_Valencia</th>\n",
       "      <th>event_team_Valenciennes</th>\n",
       "      <th>event_team_VfB Stuttgart</th>\n",
       "      <th>event_team_VfL Wolfsburg</th>\n",
       "      <th>event_team_Villarreal</th>\n",
       "      <th>event_team_Watford</th>\n",
       "      <th>event_team_Werder Bremen</th>\n",
       "      <th>event_team_West Brom</th>\n",
       "      <th>event_team_West Ham</th>\n",
       "      <th>shot_place_Bit too high</th>\n",
       "      <th>shot_place_Blocked</th>\n",
       "      <th>shot_place_Bottom left corner</th>\n",
       "      <th>shot_place_Bottom right corner</th>\n",
       "      <th>shot_place_Centre of the goal</th>\n",
       "      <th>shot_place_High and wide</th>\n",
       "      <th>shot_place_Hits the bar</th>\n",
       "      <th>shot_place_Misses to the left</th>\n",
       "      <th>shot_place_Misses to the right</th>\n",
       "      <th>shot_place_Too high</th>\n",
       "      <th>shot_place_Top centre of the goal</th>\n",
       "      <th>shot_place_Top left corner</th>\n",
       "      <th>shot_place_Top right corner</th>\n",
       "      <th>shot_place_UNK</th>\n",
       "      <th>shot_outcome_Blocked</th>\n",
       "      <th>shot_outcome_Hit the bar</th>\n",
       "      <th>shot_outcome_Off target</th>\n",
       "      <th>shot_outcome_On target</th>\n",
       "      <th>shot_outcome_UNK</th>\n",
       "      <th>bodypart_UNK</th>\n",
       "      <th>bodypart_head</th>\n",
       "      <th>bodypart_left foot</th>\n",
       "      <th>bodypart_right foot</th>\n",
       "    </tr>\n",
       "  </thead>\n",
       "  <tbody>\n",
       "    <tr>\n",
       "      <th>0</th>\n",
       "      <td>1.56</td>\n",
       "      <td>4.41</td>\n",
       "      <td>7.42</td>\n",
       "      <td>0</td>\n",
       "      <td>0</td>\n",
       "      <td>1</td>\n",
       "      <td>0</td>\n",
       "      <td>0</td>\n",
       "      <td>0</td>\n",
       "      <td>0</td>\n",
       "      <td>0</td>\n",
       "      <td>0</td>\n",
       "      <td>0</td>\n",
       "      <td>0</td>\n",
       "      <td>1</td>\n",
       "      <td>0</td>\n",
       "      <td>0</td>\n",
       "      <td>0</td>\n",
       "      <td>0</td>\n",
       "      <td>0</td>\n",
       "      <td>0</td>\n",
       "      <td>0</td>\n",
       "      <td>0</td>\n",
       "      <td>0</td>\n",
       "      <td>0</td>\n",
       "      <td>0</td>\n",
       "      <td>0</td>\n",
       "      <td>0</td>\n",
       "      <td>1</td>\n",
       "      <td>0</td>\n",
       "      <td>0</td>\n",
       "      <td>0</td>\n",
       "      <td>0</td>\n",
       "      <td>0</td>\n",
       "      <td>0</td>\n",
       "      <td>0</td>\n",
       "      <td>0</td>\n",
       "      <td>0</td>\n",
       "      <td>0</td>\n",
       "      <td>0</td>\n",
       "      <td>0</td>\n",
       "      <td>0</td>\n",
       "      <td>0</td>\n",
       "      <td>0</td>\n",
       "      <td>0</td>\n",
       "      <td>0</td>\n",
       "      <td>0</td>\n",
       "      <td>0</td>\n",
       "      <td>0</td>\n",
       "      <td>0</td>\n",
       "      <td>...</td>\n",
       "      <td>0</td>\n",
       "      <td>0</td>\n",
       "      <td>0</td>\n",
       "      <td>0</td>\n",
       "      <td>0</td>\n",
       "      <td>0</td>\n",
       "      <td>0</td>\n",
       "      <td>0</td>\n",
       "      <td>0</td>\n",
       "      <td>0</td>\n",
       "      <td>0</td>\n",
       "      <td>0</td>\n",
       "      <td>0</td>\n",
       "      <td>0</td>\n",
       "      <td>0</td>\n",
       "      <td>0</td>\n",
       "      <td>0</td>\n",
       "      <td>0</td>\n",
       "      <td>0</td>\n",
       "      <td>0</td>\n",
       "      <td>0</td>\n",
       "      <td>0</td>\n",
       "      <td>0</td>\n",
       "      <td>0</td>\n",
       "      <td>0</td>\n",
       "      <td>0</td>\n",
       "      <td>0</td>\n",
       "      <td>0</td>\n",
       "      <td>0</td>\n",
       "      <td>0</td>\n",
       "      <td>0</td>\n",
       "      <td>0</td>\n",
       "      <td>1</td>\n",
       "      <td>0</td>\n",
       "      <td>0</td>\n",
       "      <td>0</td>\n",
       "      <td>0</td>\n",
       "      <td>0</td>\n",
       "      <td>0</td>\n",
       "      <td>0</td>\n",
       "      <td>0</td>\n",
       "      <td>0</td>\n",
       "      <td>0</td>\n",
       "      <td>1</td>\n",
       "      <td>0</td>\n",
       "      <td>0</td>\n",
       "      <td>0</td>\n",
       "      <td>0</td>\n",
       "      <td>1</td>\n",
       "      <td>0</td>\n",
       "    </tr>\n",
       "    <tr>\n",
       "      <th>1</th>\n",
       "      <td>1.56</td>\n",
       "      <td>4.41</td>\n",
       "      <td>7.42</td>\n",
       "      <td>0</td>\n",
       "      <td>0</td>\n",
       "      <td>0</td>\n",
       "      <td>0</td>\n",
       "      <td>1</td>\n",
       "      <td>0</td>\n",
       "      <td>0</td>\n",
       "      <td>0</td>\n",
       "      <td>0</td>\n",
       "      <td>0</td>\n",
       "      <td>0</td>\n",
       "      <td>0</td>\n",
       "      <td>0</td>\n",
       "      <td>0</td>\n",
       "      <td>0</td>\n",
       "      <td>0</td>\n",
       "      <td>0</td>\n",
       "      <td>0</td>\n",
       "      <td>0</td>\n",
       "      <td>0</td>\n",
       "      <td>0</td>\n",
       "      <td>0</td>\n",
       "      <td>0</td>\n",
       "      <td>1</td>\n",
       "      <td>0</td>\n",
       "      <td>0</td>\n",
       "      <td>1</td>\n",
       "      <td>0</td>\n",
       "      <td>0</td>\n",
       "      <td>0</td>\n",
       "      <td>0</td>\n",
       "      <td>0</td>\n",
       "      <td>0</td>\n",
       "      <td>0</td>\n",
       "      <td>0</td>\n",
       "      <td>0</td>\n",
       "      <td>0</td>\n",
       "      <td>0</td>\n",
       "      <td>0</td>\n",
       "      <td>0</td>\n",
       "      <td>0</td>\n",
       "      <td>0</td>\n",
       "      <td>0</td>\n",
       "      <td>0</td>\n",
       "      <td>0</td>\n",
       "      <td>0</td>\n",
       "      <td>0</td>\n",
       "      <td>...</td>\n",
       "      <td>0</td>\n",
       "      <td>0</td>\n",
       "      <td>0</td>\n",
       "      <td>0</td>\n",
       "      <td>0</td>\n",
       "      <td>0</td>\n",
       "      <td>0</td>\n",
       "      <td>0</td>\n",
       "      <td>0</td>\n",
       "      <td>0</td>\n",
       "      <td>0</td>\n",
       "      <td>0</td>\n",
       "      <td>0</td>\n",
       "      <td>0</td>\n",
       "      <td>0</td>\n",
       "      <td>0</td>\n",
       "      <td>0</td>\n",
       "      <td>0</td>\n",
       "      <td>0</td>\n",
       "      <td>0</td>\n",
       "      <td>0</td>\n",
       "      <td>0</td>\n",
       "      <td>0</td>\n",
       "      <td>0</td>\n",
       "      <td>0</td>\n",
       "      <td>0</td>\n",
       "      <td>0</td>\n",
       "      <td>0</td>\n",
       "      <td>0</td>\n",
       "      <td>0</td>\n",
       "      <td>0</td>\n",
       "      <td>0</td>\n",
       "      <td>0</td>\n",
       "      <td>0</td>\n",
       "      <td>0</td>\n",
       "      <td>0</td>\n",
       "      <td>0</td>\n",
       "      <td>0</td>\n",
       "      <td>0</td>\n",
       "      <td>0</td>\n",
       "      <td>1</td>\n",
       "      <td>0</td>\n",
       "      <td>0</td>\n",
       "      <td>0</td>\n",
       "      <td>0</td>\n",
       "      <td>1</td>\n",
       "      <td>1</td>\n",
       "      <td>0</td>\n",
       "      <td>0</td>\n",
       "      <td>0</td>\n",
       "    </tr>\n",
       "    <tr>\n",
       "      <th>2</th>\n",
       "      <td>1.56</td>\n",
       "      <td>4.41</td>\n",
       "      <td>7.42</td>\n",
       "      <td>0</td>\n",
       "      <td>0</td>\n",
       "      <td>0</td>\n",
       "      <td>0</td>\n",
       "      <td>1</td>\n",
       "      <td>0</td>\n",
       "      <td>0</td>\n",
       "      <td>0</td>\n",
       "      <td>0</td>\n",
       "      <td>0</td>\n",
       "      <td>0</td>\n",
       "      <td>0</td>\n",
       "      <td>0</td>\n",
       "      <td>0</td>\n",
       "      <td>0</td>\n",
       "      <td>0</td>\n",
       "      <td>0</td>\n",
       "      <td>0</td>\n",
       "      <td>0</td>\n",
       "      <td>0</td>\n",
       "      <td>0</td>\n",
       "      <td>0</td>\n",
       "      <td>0</td>\n",
       "      <td>1</td>\n",
       "      <td>0</td>\n",
       "      <td>0</td>\n",
       "      <td>1</td>\n",
       "      <td>0</td>\n",
       "      <td>0</td>\n",
       "      <td>0</td>\n",
       "      <td>0</td>\n",
       "      <td>0</td>\n",
       "      <td>0</td>\n",
       "      <td>0</td>\n",
       "      <td>0</td>\n",
       "      <td>0</td>\n",
       "      <td>0</td>\n",
       "      <td>0</td>\n",
       "      <td>0</td>\n",
       "      <td>0</td>\n",
       "      <td>0</td>\n",
       "      <td>0</td>\n",
       "      <td>0</td>\n",
       "      <td>0</td>\n",
       "      <td>0</td>\n",
       "      <td>0</td>\n",
       "      <td>0</td>\n",
       "      <td>...</td>\n",
       "      <td>0</td>\n",
       "      <td>0</td>\n",
       "      <td>0</td>\n",
       "      <td>0</td>\n",
       "      <td>0</td>\n",
       "      <td>0</td>\n",
       "      <td>0</td>\n",
       "      <td>0</td>\n",
       "      <td>0</td>\n",
       "      <td>0</td>\n",
       "      <td>0</td>\n",
       "      <td>0</td>\n",
       "      <td>0</td>\n",
       "      <td>0</td>\n",
       "      <td>0</td>\n",
       "      <td>0</td>\n",
       "      <td>0</td>\n",
       "      <td>0</td>\n",
       "      <td>0</td>\n",
       "      <td>0</td>\n",
       "      <td>0</td>\n",
       "      <td>0</td>\n",
       "      <td>0</td>\n",
       "      <td>0</td>\n",
       "      <td>0</td>\n",
       "      <td>0</td>\n",
       "      <td>0</td>\n",
       "      <td>0</td>\n",
       "      <td>0</td>\n",
       "      <td>0</td>\n",
       "      <td>0</td>\n",
       "      <td>0</td>\n",
       "      <td>0</td>\n",
       "      <td>0</td>\n",
       "      <td>0</td>\n",
       "      <td>0</td>\n",
       "      <td>0</td>\n",
       "      <td>0</td>\n",
       "      <td>0</td>\n",
       "      <td>0</td>\n",
       "      <td>1</td>\n",
       "      <td>0</td>\n",
       "      <td>0</td>\n",
       "      <td>0</td>\n",
       "      <td>0</td>\n",
       "      <td>1</td>\n",
       "      <td>1</td>\n",
       "      <td>0</td>\n",
       "      <td>0</td>\n",
       "      <td>0</td>\n",
       "    </tr>\n",
       "    <tr>\n",
       "      <th>3</th>\n",
       "      <td>1.56</td>\n",
       "      <td>4.41</td>\n",
       "      <td>7.42</td>\n",
       "      <td>0</td>\n",
       "      <td>0</td>\n",
       "      <td>0</td>\n",
       "      <td>0</td>\n",
       "      <td>1</td>\n",
       "      <td>0</td>\n",
       "      <td>0</td>\n",
       "      <td>0</td>\n",
       "      <td>0</td>\n",
       "      <td>0</td>\n",
       "      <td>0</td>\n",
       "      <td>0</td>\n",
       "      <td>0</td>\n",
       "      <td>0</td>\n",
       "      <td>0</td>\n",
       "      <td>0</td>\n",
       "      <td>0</td>\n",
       "      <td>0</td>\n",
       "      <td>0</td>\n",
       "      <td>0</td>\n",
       "      <td>0</td>\n",
       "      <td>0</td>\n",
       "      <td>0</td>\n",
       "      <td>1</td>\n",
       "      <td>0</td>\n",
       "      <td>0</td>\n",
       "      <td>1</td>\n",
       "      <td>0</td>\n",
       "      <td>0</td>\n",
       "      <td>0</td>\n",
       "      <td>0</td>\n",
       "      <td>0</td>\n",
       "      <td>0</td>\n",
       "      <td>0</td>\n",
       "      <td>0</td>\n",
       "      <td>0</td>\n",
       "      <td>0</td>\n",
       "      <td>0</td>\n",
       "      <td>0</td>\n",
       "      <td>0</td>\n",
       "      <td>0</td>\n",
       "      <td>0</td>\n",
       "      <td>0</td>\n",
       "      <td>0</td>\n",
       "      <td>0</td>\n",
       "      <td>0</td>\n",
       "      <td>0</td>\n",
       "      <td>...</td>\n",
       "      <td>0</td>\n",
       "      <td>0</td>\n",
       "      <td>0</td>\n",
       "      <td>0</td>\n",
       "      <td>0</td>\n",
       "      <td>0</td>\n",
       "      <td>0</td>\n",
       "      <td>0</td>\n",
       "      <td>0</td>\n",
       "      <td>0</td>\n",
       "      <td>0</td>\n",
       "      <td>0</td>\n",
       "      <td>0</td>\n",
       "      <td>0</td>\n",
       "      <td>0</td>\n",
       "      <td>0</td>\n",
       "      <td>0</td>\n",
       "      <td>0</td>\n",
       "      <td>0</td>\n",
       "      <td>0</td>\n",
       "      <td>0</td>\n",
       "      <td>0</td>\n",
       "      <td>0</td>\n",
       "      <td>0</td>\n",
       "      <td>0</td>\n",
       "      <td>0</td>\n",
       "      <td>0</td>\n",
       "      <td>0</td>\n",
       "      <td>0</td>\n",
       "      <td>0</td>\n",
       "      <td>0</td>\n",
       "      <td>0</td>\n",
       "      <td>0</td>\n",
       "      <td>0</td>\n",
       "      <td>0</td>\n",
       "      <td>0</td>\n",
       "      <td>0</td>\n",
       "      <td>0</td>\n",
       "      <td>0</td>\n",
       "      <td>0</td>\n",
       "      <td>1</td>\n",
       "      <td>0</td>\n",
       "      <td>0</td>\n",
       "      <td>0</td>\n",
       "      <td>0</td>\n",
       "      <td>1</td>\n",
       "      <td>1</td>\n",
       "      <td>0</td>\n",
       "      <td>0</td>\n",
       "      <td>0</td>\n",
       "    </tr>\n",
       "    <tr>\n",
       "      <th>4</th>\n",
       "      <td>1.56</td>\n",
       "      <td>4.41</td>\n",
       "      <td>7.42</td>\n",
       "      <td>0</td>\n",
       "      <td>0</td>\n",
       "      <td>0</td>\n",
       "      <td>0</td>\n",
       "      <td>1</td>\n",
       "      <td>0</td>\n",
       "      <td>0</td>\n",
       "      <td>1</td>\n",
       "      <td>0</td>\n",
       "      <td>0</td>\n",
       "      <td>0</td>\n",
       "      <td>0</td>\n",
       "      <td>0</td>\n",
       "      <td>0</td>\n",
       "      <td>0</td>\n",
       "      <td>0</td>\n",
       "      <td>0</td>\n",
       "      <td>0</td>\n",
       "      <td>0</td>\n",
       "      <td>0</td>\n",
       "      <td>0</td>\n",
       "      <td>0</td>\n",
       "      <td>0</td>\n",
       "      <td>0</td>\n",
       "      <td>0</td>\n",
       "      <td>1</td>\n",
       "      <td>0</td>\n",
       "      <td>0</td>\n",
       "      <td>0</td>\n",
       "      <td>0</td>\n",
       "      <td>0</td>\n",
       "      <td>0</td>\n",
       "      <td>0</td>\n",
       "      <td>0</td>\n",
       "      <td>0</td>\n",
       "      <td>0</td>\n",
       "      <td>0</td>\n",
       "      <td>0</td>\n",
       "      <td>0</td>\n",
       "      <td>0</td>\n",
       "      <td>0</td>\n",
       "      <td>0</td>\n",
       "      <td>0</td>\n",
       "      <td>0</td>\n",
       "      <td>0</td>\n",
       "      <td>0</td>\n",
       "      <td>0</td>\n",
       "      <td>...</td>\n",
       "      <td>0</td>\n",
       "      <td>0</td>\n",
       "      <td>0</td>\n",
       "      <td>0</td>\n",
       "      <td>0</td>\n",
       "      <td>0</td>\n",
       "      <td>0</td>\n",
       "      <td>0</td>\n",
       "      <td>0</td>\n",
       "      <td>0</td>\n",
       "      <td>0</td>\n",
       "      <td>0</td>\n",
       "      <td>0</td>\n",
       "      <td>0</td>\n",
       "      <td>0</td>\n",
       "      <td>0</td>\n",
       "      <td>0</td>\n",
       "      <td>0</td>\n",
       "      <td>0</td>\n",
       "      <td>0</td>\n",
       "      <td>0</td>\n",
       "      <td>0</td>\n",
       "      <td>0</td>\n",
       "      <td>0</td>\n",
       "      <td>0</td>\n",
       "      <td>0</td>\n",
       "      <td>0</td>\n",
       "      <td>0</td>\n",
       "      <td>0</td>\n",
       "      <td>0</td>\n",
       "      <td>0</td>\n",
       "      <td>0</td>\n",
       "      <td>0</td>\n",
       "      <td>0</td>\n",
       "      <td>0</td>\n",
       "      <td>0</td>\n",
       "      <td>0</td>\n",
       "      <td>0</td>\n",
       "      <td>0</td>\n",
       "      <td>0</td>\n",
       "      <td>1</td>\n",
       "      <td>0</td>\n",
       "      <td>0</td>\n",
       "      <td>0</td>\n",
       "      <td>0</td>\n",
       "      <td>1</td>\n",
       "      <td>1</td>\n",
       "      <td>0</td>\n",
       "      <td>0</td>\n",
       "      <td>0</td>\n",
       "    </tr>\n",
       "  </tbody>\n",
       "</table>\n",
       "<p>5 rows × 195 columns</p>\n",
       "</div>"
      ],
      "text/plain": [
       "   odd_h  odd_d  odd_a  assist_method_Cross  assist_method_Headed pass  assist_method_Pass  assist_method_Through ball  assist_method_UNK  location_Attacking half  location_Centre of the box  location_Defensive half  location_Difficult angle and long range  location_Difficult angle on the left  location_Difficult angle on the right  location_Left side of the box  location_Left side of the six yard box  location_Left wing  location_Long range  location_More than 35 yards  \\\n",
       "0   1.56   4.41   7.42                    0                          0                   1                           0                  0                        0                           0                        0                                        0                                     0                                      0                              1                                       0                   0                    0                            0   \n",
       "1   1.56   4.41   7.42                    0                          0                   0                           0                  1                        0                           0                        0                                        0                                     0                                      0                              0                                       0                   0                    0                            0   \n",
       "2   1.56   4.41   7.42                    0                          0                   0                           0                  1                        0                           0                        0                                        0                                     0                                      0                              0                                       0                   0                    0                            0   \n",
       "3   1.56   4.41   7.42                    0                          0                   0                           0                  1                        0                           0                        0                                        0                                     0                                      0                              0                                       0                   0                    0                            0   \n",
       "4   1.56   4.41   7.42                    0                          0                   0                           0                  1                        0                           0                        1                                        0                                     0                                      0                              0                                       0                   0                    0                            0   \n",
       "\n",
       "   location_More than 40 yards  location_Not recorded  location_Outside the box  location_Penalty spot  location_Right side of the box  location_Right side of the six yard box  location_Right wing  location_UNK  location_Very close range  side_Away  side_Home  event_team_AC Ajaccio  event_team_AC Milan  event_team_AJ Auxerre  event_team_AS Monaco  event_team_AS Nancy Lorraine  event_team_AS Roma  event_team_Alaves  event_team_Almeria  event_team_Angers  event_team_Arsenal  \\\n",
       "0                            0                      0                         0                      0                               0                                        0                    0             0                          0          1          0                      0                    0                      0                     0                             0                   0                  0                   0                  0                   0   \n",
       "1                            0                      0                         0                      0                               0                                        0                    0             1                          0          0          1                      0                    0                      0                     0                             0                   0                  0                   0                  0                   0   \n",
       "2                            0                      0                         0                      0                               0                                        0                    0             1                          0          0          1                      0                    0                      0                     0                             0                   0                  0                   0                  0                   0   \n",
       "3                            0                      0                         0                      0                               0                                        0                    0             1                          0          0          1                      0                    0                      0                     0                             0                   0                  0                   0                  0                   0   \n",
       "4                            0                      0                         0                      0                               0                                        0                    0             0                          0          1          0                      0                    0                      0                     0                             0                   0                  0                   0                  0                   0   \n",
       "\n",
       "   event_team_Aston Villa  event_team_Atalanta  event_team_Athletic Bilbao  event_team_Atletico Madrid  event_team_Barcelona  event_team_Bastia  event_team_Bayer Leverkusen  event_team_Bayern Munich  event_team_Bologna  event_team_Bordeaux         ...           event_team_Sochaux  event_team_Southampton  event_team_SpVgg Greuther Furth  event_team_Sporting Gijon  event_team_St Etienne  event_team_Stade Rennes  event_team_Stade de Reims  event_team_Stoke City  event_team_Sunderland  \\\n",
       "0                       0                    0                           0                           0                     0                  0                            0                         0                   0                    0         ...                            0                       0                                0                          0                      0                        0                          0                      0                      0   \n",
       "1                       0                    0                           0                           0                     0                  0                            0                         0                   0                    0         ...                            0                       0                                0                          0                      0                        0                          0                      0                      0   \n",
       "2                       0                    0                           0                           0                     0                  0                            0                         0                   0                    0         ...                            0                       0                                0                          0                      0                        0                          0                      0                      0   \n",
       "3                       0                    0                           0                           0                     0                  0                            0                         0                   0                    0         ...                            0                       0                                0                          0                      0                        0                          0                      0                      0   \n",
       "4                       0                    0                           0                           0                     0                  0                            0                         0                   0                    0         ...                            0                       0                                0                          0                      0                        0                          0                      0                      0   \n",
       "\n",
       "   event_team_Swansea  event_team_TSG Hoffenheim  event_team_TSV Eintracht Braunschweig  event_team_Torino  event_team_Tottenham  event_team_Toulouse  event_team_Troyes  event_team_US Pescara  event_team_Udinese  event_team_Valencia  event_team_Valenciennes  event_team_VfB Stuttgart  event_team_VfL Wolfsburg  event_team_Villarreal  event_team_Watford  event_team_Werder Bremen  event_team_West Brom  event_team_West Ham  shot_place_Bit too high  shot_place_Blocked  shot_place_Bottom left corner  \\\n",
       "0                   0                          0                                      0                  0                     0                    0                  0                      0                   0                    0                        0                         0                         0                      0                   0                         0                     0                    0                        0                   0                              0   \n",
       "1                   0                          0                                      0                  0                     0                    0                  0                      0                   0                    0                        0                         0                         0                      0                   0                         0                     0                    0                        0                   0                              0   \n",
       "2                   0                          0                                      0                  0                     0                    0                  0                      0                   0                    0                        0                         0                         0                      0                   0                         0                     0                    0                        0                   0                              0   \n",
       "3                   0                          0                                      0                  0                     0                    0                  0                      0                   0                    0                        0                         0                         0                      0                   0                         0                     0                    0                        0                   0                              0   \n",
       "4                   0                          0                                      0                  0                     0                    0                  0                      0                   0                    0                        0                         0                         0                      0                   0                         0                     0                    0                        0                   0                              0   \n",
       "\n",
       "   shot_place_Bottom right corner  shot_place_Centre of the goal  shot_place_High and wide  shot_place_Hits the bar  shot_place_Misses to the left  shot_place_Misses to the right  shot_place_Too high  shot_place_Top centre of the goal  shot_place_Top left corner  shot_place_Top right corner  shot_place_UNK  shot_outcome_Blocked  shot_outcome_Hit the bar  shot_outcome_Off target  shot_outcome_On target  shot_outcome_UNK  bodypart_UNK  bodypart_head  bodypart_left foot  bodypart_right foot  \n",
       "0                               0                              0                         1                        0                              0                               0                    0                                  0                           0                            0               0                     0                         0                        1                       0                 0             0              0                   1                    0  \n",
       "1                               0                              0                         0                        0                              0                               0                    0                                  0                           0                            0               1                     0                         0                        0                       0                 1             1              0                   0                    0  \n",
       "2                               0                              0                         0                        0                              0                               0                    0                                  0                           0                            0               1                     0                         0                        0                       0                 1             1              0                   0                    0  \n",
       "3                               0                              0                         0                        0                              0                               0                    0                                  0                           0                            0               1                     0                         0                        0                       0                 1             1              0                   0                    0  \n",
       "4                               0                              0                         0                        0                              0                               0                    0                                  0                           0                            0               1                     0                         0                        0                       0                 1             1              0                   0                    0  \n",
       "\n",
       "[5 rows x 195 columns]"
      ]
     },
     "execution_count": 25,
     "metadata": {},
     "output_type": "execute_result"
    }
   ],
   "source": [
    "df_feats_dumm.head()"
   ]
  },
  {
   "cell_type": "code",
   "execution_count": 26,
   "metadata": {},
   "outputs": [],
   "source": [
    "x_train, x_val, y_train, y_val = train_test_split(df_feats_dumm, training_target,\n",
    "                                                  test_size = .1,\n",
    "                                                  random_state=12)\n"
   ]
  },
  {
   "cell_type": "code",
   "execution_count": 27,
   "metadata": {},
   "outputs": [
    {
     "data": {
      "text/plain": [
       "(846908, 195)"
      ]
     },
     "execution_count": 27,
     "metadata": {},
     "output_type": "execute_result"
    }
   ],
   "source": [
    "x_train.shape"
   ]
  },
  {
   "cell_type": "code",
   "execution_count": 28,
   "metadata": {},
   "outputs": [
    {
     "data": {
      "text/plain": [
       "(94101, 195)"
      ]
     },
     "execution_count": 28,
     "metadata": {},
     "output_type": "execute_result"
    }
   ],
   "source": [
    "x_val.shape"
   ]
  },
  {
   "cell_type": "code",
   "execution_count": 29,
   "metadata": {},
   "outputs": [],
   "source": [
    "from imblearn.under_sampling import RandomUnderSampler\n",
    "from collections import Counter"
   ]
  },
  {
   "cell_type": "code",
   "execution_count": 30,
   "metadata": {},
   "outputs": [
    {
     "name": "stdout",
     "output_type": "stream",
     "text": [
      "Original dataset shape Counter({False: 824932, True: 21976})\n"
     ]
    }
   ],
   "source": [
    "print('Original dataset shape %s' % Counter(y_train))"
   ]
  },
  {
   "cell_type": "code",
   "execution_count": 31,
   "metadata": {},
   "outputs": [],
   "source": [
    "rus = RandomUnderSampler(random_state=42)\n",
    "X_res, y_res = rus.fit_resample(x_train, y_train)"
   ]
  },
  {
   "cell_type": "code",
   "execution_count": 32,
   "metadata": {},
   "outputs": [
    {
     "name": "stdout",
     "output_type": "stream",
     "text": [
      "Resampled dataset shape Counter({False: 21976, True: 21976})\n"
     ]
    }
   ],
   "source": [
    "print('Resampled dataset shape %s' % Counter(y_res))"
   ]
  },
  {
   "cell_type": "markdown",
   "metadata": {},
   "source": [
    "## Logistic Regression model"
   ]
  },
  {
   "cell_type": "code",
   "execution_count": 33,
   "metadata": {},
   "outputs": [
    {
     "name": "stdout",
     "output_type": "stream",
     "text": [
      "LogisticRegression(C=1.0, class_weight=None, dual=False, fit_intercept=True,\n",
      "          intercept_scaling=1, max_iter=100, multi_class='warn',\n",
      "          n_jobs=None, penalty='l2', random_state=None, solver='warn',\n",
      "          tol=0.0001, verbose=0, warm_start=False)\n"
     ]
    }
   ],
   "source": [
    "from sklearn import metrics\n",
    "from sklearn.linear_model import LogisticRegression\n",
    "\n",
    "model = LogisticRegression()\n",
    "model.fit(X_res, y_res)\n",
    "print(model)"
   ]
  },
  {
   "cell_type": "code",
   "execution_count": 34,
   "metadata": {},
   "outputs": [
    {
     "name": "stdout",
     "output_type": "stream",
     "text": [
      "              precision    recall  f1-score   support\n",
      "\n",
      "       False       1.00      0.95      0.97     21976\n",
      "        True       0.95      1.00      0.97     21976\n",
      "\n",
      "   micro avg       0.97      0.97      0.97     43952\n",
      "   macro avg       0.97      0.97      0.97     43952\n",
      "weighted avg       0.97      0.97      0.97     43952\n",
      "\n",
      "[[20834  1142]\n",
      " [   22 21954]]\n"
     ]
    }
   ],
   "source": [
    "# make predictions\n",
    "expected = y_res\n",
    "predicted = model.predict(X_res)\n",
    "# summarize the fit of the model\n",
    "print(metrics.classification_report(expected, predicted))\n",
    "print(metrics.confusion_matrix(expected, predicted))"
   ]
  },
  {
   "cell_type": "code",
   "execution_count": 35,
   "metadata": {},
   "outputs": [
    {
     "name": "stdout",
     "output_type": "stream",
     "text": [
      "              precision    recall  f1-score   support\n",
      "\n",
      "       False       1.00      0.95      0.97     91631\n",
      "        True       0.34      1.00      0.51      2470\n",
      "\n",
      "   micro avg       0.95      0.95      0.95     94101\n",
      "   macro avg       0.67      0.97      0.74     94101\n",
      "weighted avg       0.98      0.95      0.96     94101\n",
      "\n",
      "[[86861  4770]\n",
      " [    5  2465]]\n"
     ]
    }
   ],
   "source": [
    "# make predictions\n",
    "expected = y_val\n",
    "predicted = model.predict(x_val)\n",
    "# summarize the fit of the model\n",
    "print(metrics.classification_report(expected, predicted))\n",
    "print(metrics.confusion_matrix(expected, predicted))"
   ]
  },
  {
   "cell_type": "code",
   "execution_count": 36,
   "metadata": {},
   "outputs": [
    {
     "data": {
      "text/plain": [
       "0.9492566497699281"
      ]
     },
     "execution_count": 36,
     "metadata": {},
     "output_type": "execute_result"
    }
   ],
   "source": [
    "metrics.accuracy_score(expected, predicted)"
   ]
  },
  {
   "cell_type": "code",
   "execution_count": 37,
   "metadata": {},
   "outputs": [
    {
     "data": {
      "text/plain": [
       "0.9729595450543429"
      ]
     },
     "execution_count": 37,
     "metadata": {},
     "output_type": "execute_result"
    }
   ],
   "source": [
    "metrics.balanced_accuracy_score(expected, predicted)"
   ]
  },
  {
   "cell_type": "markdown",
   "metadata": {},
   "source": [
    "## Random Forest"
   ]
  },
  {
   "cell_type": "code",
   "execution_count": 38,
   "metadata": {},
   "outputs": [],
   "source": [
    "from sklearn.ensemble import RandomForestClassifier\n",
    "\n",
    "# Make the random forest classifier\n",
    "random_forest = RandomForestClassifier(n_estimators = 100, random_state = 12, verbose = 1, n_jobs = -1)"
   ]
  },
  {
   "cell_type": "code",
   "execution_count": 43,
   "metadata": {},
   "outputs": [
    {
     "name": "stderr",
     "output_type": "stream",
     "text": [
      "[Parallel(n_jobs=-1)]: Using backend ThreadingBackend with 8 concurrent workers.\n",
      "[Parallel(n_jobs=-1)]: Done  34 tasks      | elapsed:    0.7s\n",
      "[Parallel(n_jobs=-1)]: Done 100 out of 100 | elapsed:    1.8s finished\n",
      "[Parallel(n_jobs=8)]: Using backend ThreadingBackend with 8 concurrent workers.\n",
      "[Parallel(n_jobs=8)]: Done  34 tasks      | elapsed:    0.1s\n",
      "[Parallel(n_jobs=8)]: Done 100 out of 100 | elapsed:    0.3s finished\n"
     ]
    }
   ],
   "source": [
    "# Train on the training data\n",
    "random_forest.fit(X_res, y_res)\n",
    "\n",
    "# Feature names\n",
    "features = list(df_feats_dumm.columns)\n",
    "\n",
    "\n",
    "# Extract feature importances\n",
    "feature_importance_values = random_forest.feature_importances_\n",
    "feature_importances = pd.DataFrame({'feature': features, 'importance': feature_importance_values})\n",
    "\n",
    "# Make predictions on the test data\n",
    "predictions = random_forest.predict(x_val)"
   ]
  },
  {
   "cell_type": "code",
   "execution_count": 44,
   "metadata": {},
   "outputs": [
    {
     "data": {
      "text/plain": [
       "0.9515201751309763"
      ]
     },
     "execution_count": 44,
     "metadata": {},
     "output_type": "execute_result"
    }
   ],
   "source": [
    "metrics.accuracy_score(y_val, predictions)"
   ]
  },
  {
   "cell_type": "code",
   "execution_count": 45,
   "metadata": {},
   "outputs": [
    {
     "data": {
      "text/plain": [
       "0.973530898021403"
      ]
     },
     "execution_count": 45,
     "metadata": {},
     "output_type": "execute_result"
    }
   ],
   "source": [
    "metrics.balanced_accuracy_score(y_val, predictions)"
   ]
  },
  {
   "cell_type": "code",
   "execution_count": 46,
   "metadata": {},
   "outputs": [],
   "source": [
    "def plot_feature_importances(df):\n",
    "    \"\"\"\n",
    "    Plot importances returned by a model. This can work with any measure of\n",
    "    feature importance provided that higher importance is better. \n",
    "    \n",
    "    Args:\n",
    "        df (dataframe): feature importances. Must have the features in a column\n",
    "        called `features` and the importances in a column called `importance\n",
    "        \n",
    "    Returns:\n",
    "        shows a plot of the 15 most importance features\n",
    "        \n",
    "        df (dataframe): feature importances sorted by importance (highest to lowest) \n",
    "        with a column for normalized importance\n",
    "        \"\"\"\n",
    "    \n",
    "    # Sort features according to importance\n",
    "    df = df.sort_values('importance', ascending = False).reset_index()\n",
    "    \n",
    "    # Normalize the feature importances to add up to one\n",
    "    df['importance_normalized'] = df['importance'] / df['importance'].sum()\n",
    "\n",
    "    # Make a horizontal bar chart of feature importances\n",
    "    plt.figure(figsize = (10, 6))\n",
    "    ax = plt.subplot()\n",
    "    \n",
    "    # Need to reverse the index to plot most important on top\n",
    "    ax.barh(list(reversed(list(df.index[:15]))), \n",
    "            df['importance_normalized'].head(15), \n",
    "            align = 'center', edgecolor = 'k')\n",
    "    \n",
    "    # Set the yticks and labels\n",
    "    ax.set_yticks(list(reversed(list(df.index[:15]))))\n",
    "    ax.set_yticklabels(df['feature'].head(15))\n",
    "    \n",
    "    # Plot labeling\n",
    "    plt.xlabel('Normalized Importance'); plt.title('Feature Importances')\n",
    "    plt.show()\n",
    "    \n",
    "    return df"
   ]
  },
  {
   "cell_type": "code",
   "execution_count": 47,
   "metadata": {},
   "outputs": [
    {
     "data": {
      "image/png": "[encoded data removed]",
      "text/plain": [
       "<Figure size 720x432 with 1 Axes>"
      ]
     },
     "metadata": {},
     "output_type": "display_data"
    }
   ],
   "source": [
    "# Show the feature importances for the default features\n",
    "feature_importances_sorted = plot_feature_importances(feature_importances)"
   ]
  },
  {
   "cell_type": "markdown",
   "metadata": {},
   "source": [
    "## Without handling class imbalance"
   ]
  },
  {
   "cell_type": "code",
   "execution_count": 48,
   "metadata": {},
   "outputs": [],
   "source": [
    "training_features = df_data.drop(columns=['is_goal'])\n",
    "training_target = df_data.is_goal"
   ]
  },
  {
   "cell_type": "code",
   "execution_count": null,
   "metadata": {},
   "outputs": [],
   "source": [
    "x_train, x_val, y_train, y_val = train_test_split(df_feats_dumm, training_target,\n",
    "                                                  test_size = .1,\n",
    "                                                  random_state=12)\n"
   ]
  },
  {
   "cell_type": "code",
   "execution_count": 49,
   "metadata": {},
   "outputs": [
    {
     "name": "stdout",
     "output_type": "stream",
     "text": [
      "LogisticRegression(C=1.0, class_weight=None, dual=False, fit_intercept=True,\n",
      "          intercept_scaling=1, max_iter=100, multi_class='warn',\n",
      "          n_jobs=None, penalty='l2', random_state=None, solver='warn',\n",
      "          tol=0.0001, verbose=0, warm_start=False)\n"
     ]
    }
   ],
   "source": [
    "model = LogisticRegression()\n",
    "model.fit(x_train, y_train)\n",
    "print(model)"
   ]
  },
  {
   "cell_type": "code",
   "execution_count": 51,
   "metadata": {},
   "outputs": [
    {
     "name": "stdout",
     "output_type": "stream",
     "text": [
      "              precision    recall  f1-score   support\n",
      "\n",
      "       False       0.99      0.99      0.99     91631\n",
      "        True       0.71      0.58      0.64      2470\n",
      "\n",
      "   micro avg       0.98      0.98      0.98     94101\n",
      "   macro avg       0.85      0.79      0.82     94101\n",
      "weighted avg       0.98      0.98      0.98     94101\n",
      "\n",
      "[[91036   595]\n",
      " [ 1027  1443]]\n"
     ]
    }
   ],
   "source": [
    "# make predictions\n",
    "expected = y_val\n",
    "predicted = model.predict(x_val)\n",
    "# summarize the fit of the model\n",
    "print(metrics.classification_report(expected, predicted))\n",
    "print(metrics.confusion_matrix(expected, predicted))"
   ]
  },
  {
   "cell_type": "code",
   "execution_count": 52,
   "metadata": {},
   "outputs": [
    {
     "data": {
      "text/plain": [
       "0.9827632012412195"
      ]
     },
     "execution_count": 52,
     "metadata": {},
     "output_type": "execute_result"
    }
   ],
   "source": [
    "metrics.accuracy_score(expected, predicted)\n",
    "# \n",
    "# metrics.roc_auc_score(expected, predicted)"
   ]
  },
  {
   "cell_type": "code",
   "execution_count": 53,
   "metadata": {},
   "outputs": [
    {
     "data": {
      "text/plain": [
       "0.7888585453440544"
      ]
     },
     "execution_count": 53,
     "metadata": {},
     "output_type": "execute_result"
    }
   ],
   "source": [
    "metrics.balanced_accuracy_score(expected, predicted)"
   ]
  },
  {
   "cell_type": "code",
   "execution_count": null,
   "metadata": {},
   "outputs": [],
   "source": []
  }
 ],
 "metadata": {
  "kernelspec": {
   "display_name": "Python (ml)",
   "language": "python",
   "name": "ml"
  },
  "language_info": {
   "codemirror_mode": {
    "name": "ipython",
    "version": 3
   },
   "file_extension": ".py",
   "mimetype": "text/x-python",
   "name": "python",
   "nbconvert_exporter": "python",
   "pygments_lexer": "ipython3",
   "version": "3.6.6"
  }
 },
 "nbformat": 4,
 "nbformat_minor": 2
}
